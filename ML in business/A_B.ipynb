{
 "cells": [
  {
   "cell_type": "markdown",
   "metadata": {},
   "source": [
    "# Описание проекта"
   ]
  },
  {
   "cell_type": "markdown",
   "metadata": {},
   "source": [
    "Допустим, вы работаете в добывающей компании «ГлавРосГосНефть». Нужно решить, где бурить новую скважину.\n",
    "\n",
    "Вам предоставлены пробы нефти в трёх регионах: в каждом 10 000 месторождений, где измерили качество нефти и объём её запасов. Постройте модель машинного обучения, которая поможет определить регион, где добыча принесёт наибольшую прибыль. Проанализируйте возможную прибыль и риски техникой *Bootstrap.*\n",
    "\n",
    "Шаги для выбора локации:\n",
    "\n",
    "- В избранном регионе ищут месторождения, для каждого определяют значения признаков;\n",
    "- Строят модель и оценивают объём запасов;\n",
    "- Выбирают месторождения с самым высокими оценками значений. Количество месторождений зависит от бюджета компании и стоимости разработки одной скважины;\n",
    "- Прибыль равна суммарной прибыли отобранных месторождений."
   ]
  },
  {
   "cell_type": "markdown",
   "metadata": {},
   "source": [
    "# 1. Загрузка и подготовка данных"
   ]
  },
  {
   "cell_type": "markdown",
   "metadata": {},
   "source": [
    "Загружаем библиотеки, подгружаем алгоритм обучения модели, функцию разбиения выборок и метрики качетв"
   ]
  },
  {
   "cell_type": "code",
   "execution_count": 1,
   "metadata": {},
   "outputs": [],
   "source": [
    "import pandas as pd\n",
    "import numpy as np\n",
    "import matplotlib.pyplot as plt\n",
    "import seaborn as sns\n",
    "\n",
    "\n",
    "from sklearn.linear_model import LinearRegression\n",
    "\n",
    "from sklearn.model_selection import train_test_split\n",
    "\n",
    "from sklearn.metrics import mean_squared_error"
   ]
  },
  {
   "cell_type": "markdown",
   "metadata": {},
   "source": [
    "Смотрим данные. Полноту картины по ним оценить нельзя, равзве что о цифре запасах по каждому из месторождений в столбце product"
   ]
  },
  {
   "cell_type": "code",
   "execution_count": 2,
   "metadata": {},
   "outputs": [],
   "source": [
    "geo_data_0 = pd.read_csv('/datasets/geo_data_0.csv')\n",
    "geo_data_1 = pd.read_csv('/datasets/geo_data_1.csv')\n",
    "geo_data_2 = pd.read_csv('/datasets/geo_data_2.csv')"
   ]
  },
  {
   "cell_type": "markdown",
   "metadata": {},
   "source": [
    "Пропусков нет, единственное есть столбец id, который не несет существенной информации и в рамках поставленной задачи его можно удалить."
   ]
  },
  {
   "cell_type": "code",
   "execution_count": 3,
   "metadata": {},
   "outputs": [
    {
     "name": "stdout",
     "output_type": "stream",
     "text": [
      "<class 'pandas.core.frame.DataFrame'>\n",
      "RangeIndex: 100000 entries, 0 to 99999\n",
      "Data columns (total 5 columns):\n",
      "id         100000 non-null object\n",
      "f0         100000 non-null float64\n",
      "f1         100000 non-null float64\n",
      "f2         100000 non-null float64\n",
      "product    100000 non-null float64\n",
      "dtypes: float64(4), object(1)\n",
      "memory usage: 3.8+ MB\n"
     ]
    }
   ],
   "source": [
    "geo_data_0.info()"
   ]
  },
  {
   "cell_type": "markdown",
   "metadata": {},
   "source": [
    "Так как мы работаем в ГлавРосГосНефть, условимся что и проекты будут внутри России. Для вхождения в отечественные проекты минимальные извлекаемые запасы принято считать рентабельными если они больше 1 млн. м3, что в баррелях 6.3 млн или 6300 тыс баррелей нефти. Если учесть, что скороее всего нам предоставили начальные геологические запасы, то для получения извлекаемых надо умножить величины запасов на  коэфициент извлечения нефти, который равен +- 0.2. Итого получаем, что максимальные запасы по предложеным месторождениям составляют меньше 50 тыс. баррелей (а нам надо минимум 6300 тыс. баррелей для рентабельного входа в проект). **Вывод**: ни одно из предложенных месторождений никогда себя не окупит). \n",
    "\n",
    "Минутка отсылок к моей трудовой деятельности закончилась, теперь можно начать обучение модели."
   ]
  },
  {
   "cell_type": "markdown",
   "metadata": {},
   "source": [
    "# 2. Обучение и проверка модели"
   ]
  },
  {
   "cell_type": "markdown",
   "metadata": {},
   "source": [
    "**Составим функцию обучения модели, на вход которой будем подавать интересующию выборку**\n",
    "- Для обучения модели воспользуемся линейной регрессией;\n",
    "- Из исходных выборок получим features и target путем отбрасывания и сохранения столбца product соответственно;\n",
    "- Разобьем выборки на тренеровочные и валидационные в отношении 3 к 1 методом train_test_split\n",
    "- Обучим модель методом .fit()\n",
    "- Предскажем искомые данные product\n",
    "- Найдем средннее значение предсказанных запасов по региону\n",
    "- Найдем RMSE для пресказанных и истинных велчини, выведем их на экран"
   ]
  },
  {
   "cell_type": "code",
   "execution_count": 4,
   "metadata": {},
   "outputs": [],
   "source": [
    "def LR_model(data):\n",
    "    features = data.drop(['id','product'], axis = 1)\n",
    "    target = data['product']\n",
    "    \n",
    "    features_train, features_valid, target_train, target_valid= train_test_split(features,target, test_size = 0.25,\n",
    "                                                                                 random_state=12345 )\n",
    "\n",
    "    model = LinearRegression()\n",
    "    model.fit(features_train, target_train)\n",
    "    predicted_valid = model.predict(features_valid)\n",
    "    \n",
    "    #STOIIP - Abbreviation for stock-tank oil initially in place, the volume of oil in a reservoir prior to production\n",
    "    print(\"STOIIP_mean =\", predicted_valid.mean())\n",
    "    \n",
    "    mse = mean_squared_error(target_valid, predicted_valid)\n",
    "    rmse = mse ** 0.5\n",
    "    #print(\"MSE =\", mse)\n",
    "    print(\"RMSE =\", mse ** 0.5)\n",
    "    \n",
    "    predicted_valid = pd.DataFrame(predicted_valid,columns = [\"predicted_product\"])\n",
    "    return predicted_valid, predicted_valid.mean(), rmse "
   ]
  },
  {
   "cell_type": "markdown",
   "metadata": {},
   "source": [
    "- Воспользуемся написанной функцией для интересующих регионов."
   ]
  },
  {
   "cell_type": "code",
   "execution_count": 5,
   "metadata": {},
   "outputs": [
    {
     "name": "stdout",
     "output_type": "stream",
     "text": [
      "STOIIP_mean = 92.59256778438038\n",
      "RMSE = 37.5794217150813\n"
     ]
    }
   ],
   "source": [
    "predicted_valid_0, STOIIP_mean_0, rmse_0= LR_model(geo_data_0)"
   ]
  },
  {
   "cell_type": "code",
   "execution_count": 6,
   "metadata": {},
   "outputs": [
    {
     "name": "stdout",
     "output_type": "stream",
     "text": [
      "STOIIP_mean = 68.728546895446\n",
      "RMSE = 0.893099286775616\n"
     ]
    }
   ],
   "source": [
    "predicted_valid_1, STOIIP_mean_1, rmse_1 = LR_model(geo_data_1)"
   ]
  },
  {
   "cell_type": "code",
   "execution_count": 7,
   "metadata": {},
   "outputs": [
    {
     "name": "stdout",
     "output_type": "stream",
     "text": [
      "STOIIP_mean = 94.96504596800489\n",
      "RMSE = 40.02970873393434\n"
     ]
    }
   ],
   "source": [
    "predicted_valid_2, STOIIP_mean_2, rmse_2= LR_model(geo_data_2)"
   ]
  },
  {
   "cell_type": "markdown",
   "metadata": {},
   "source": [
    " - Меньший разброс по запасам на месторождениях дает 1 регион, но вместе с этим и наименьшее среднее. Наибольшее срденее у 2 региона, но и разброс тоже больше. Нужно провести анализ финансовой составляющей чтобы сказать какой регион будет наиболее вероятнее комерчески успешен"
   ]
  },
  {
   "cell_type": "markdown",
   "metadata": {},
   "source": [
    "# 3. Подготовка к расчёту прибыли"
   ]
  },
  {
   "cell_type": "markdown",
   "metadata": {},
   "source": [
    "- Посчитаем минимальные рентабельные запасы для разработки месторождения"
   ]
  },
  {
   "cell_type": "code",
   "execution_count": 8,
   "metadata": {
    "scrolled": true
   },
   "outputs": [
    {
     "name": "stdout",
     "output_type": "stream",
     "text": [
      "Минимальные рентабельные запасы м-ия для разработки одной скважиной 11.11 тыс.баррелей.\n"
     ]
    }
   ],
   "source": [
    "STOIIP_min = 50000000 / 4500 /1000\n",
    "print(\"Минимальные рентабельные запасы м-ия для разработки одной скважиной {:.2f} тыс.баррелей.\".format(STOIIP_min))"
   ]
  },
  {
   "cell_type": "markdown",
   "metadata": {},
   "source": [
    "*Вообще эта цифра показывает, какую минимальную накопленную добычу должна иметь скважина, чтобы себя окупить. Но так как мы не знаем средние суточные дебиты, то нет возможности понять за какой период произойдет отбор. Еще важнее было бы знать среднею накопленую добычу на скважину по региону, тогда мы бы могли расчитать сколькими скважинами нужно разрабатывать месторождение и  расчет прибыли был бы по прежнему грубым но идейно верным.*"
   ]
  },
  {
   "cell_type": "markdown",
   "metadata": {},
   "source": [
    "Составим функцию для нахождения выручки. Выручку считаем из условия, что месторождение разрабатывается 1 скважиной, эта скважина отбирает все запасы.\n",
    " - Считаем столбец total_revenue, который показывает ссумму на которую можно продать всю нефть на месторождении (валовую прибыль)\n",
    " - Считаем чистую прибыль в столбеце income, который получаем как разницу валовой выручки и капитальных затрат на строительство скважины."
   ]
  },
  {
   "cell_type": "code",
   "execution_count": 9,
   "metadata": {},
   "outputs": [],
   "source": [
    "def revenue_calc(data):\n",
    "    data['total_revenue'] = data['predicted_product'] *4500*1000/1000000\n",
    "    data['cost_of_well'] = 50\n",
    "    data['income'] = data['total_revenue'] - data['cost_of_well']\n",
    "    return data"
   ]
  },
  {
   "cell_type": "markdown",
   "metadata": {},
   "source": [
    "- Применяем функцию для каждого региона"
   ]
  },
  {
   "cell_type": "code",
   "execution_count": 10,
   "metadata": {},
   "outputs": [],
   "source": [
    "predicted_valid_0 =revenue_calc(predicted_valid_0)\n",
    "predicted_valid_1 = revenue_calc(predicted_valid_1)\n",
    "predicted_valid_2 = revenue_calc(predicted_valid_2)"
   ]
  },
  {
   "cell_type": "code",
   "execution_count": 11,
   "metadata": {},
   "outputs": [
    {
     "data": {
      "text/html": [
       "<div>\n",
       "<style scoped>\n",
       "    .dataframe tbody tr th:only-of-type {\n",
       "        vertical-align: middle;\n",
       "    }\n",
       "\n",
       "    .dataframe tbody tr th {\n",
       "        vertical-align: top;\n",
       "    }\n",
       "\n",
       "    .dataframe thead th {\n",
       "        text-align: right;\n",
       "    }\n",
       "</style>\n",
       "<table border=\"1\" class=\"dataframe\">\n",
       "  <thead>\n",
       "    <tr style=\"text-align: right;\">\n",
       "      <th></th>\n",
       "      <th>predicted_product</th>\n",
       "      <th>total_revenue</th>\n",
       "      <th>cost_of_well</th>\n",
       "      <th>income</th>\n",
       "    </tr>\n",
       "  </thead>\n",
       "  <tbody>\n",
       "    <tr>\n",
       "      <td>0</td>\n",
       "      <td>93.599633</td>\n",
       "      <td>421.198349</td>\n",
       "      <td>50</td>\n",
       "      <td>371.198349</td>\n",
       "    </tr>\n",
       "    <tr>\n",
       "      <td>1</td>\n",
       "      <td>75.105159</td>\n",
       "      <td>337.973213</td>\n",
       "      <td>50</td>\n",
       "      <td>287.973213</td>\n",
       "    </tr>\n",
       "    <tr>\n",
       "      <td>2</td>\n",
       "      <td>90.066809</td>\n",
       "      <td>405.300642</td>\n",
       "      <td>50</td>\n",
       "      <td>355.300642</td>\n",
       "    </tr>\n",
       "    <tr>\n",
       "      <td>3</td>\n",
       "      <td>105.162375</td>\n",
       "      <td>473.230688</td>\n",
       "      <td>50</td>\n",
       "      <td>423.230688</td>\n",
       "    </tr>\n",
       "    <tr>\n",
       "      <td>4</td>\n",
       "      <td>115.303310</td>\n",
       "      <td>518.864897</td>\n",
       "      <td>50</td>\n",
       "      <td>468.864897</td>\n",
       "    </tr>\n",
       "  </tbody>\n",
       "</table>\n",
       "</div>"
      ],
      "text/plain": [
       "   predicted_product  total_revenue  cost_of_well      income\n",
       "0          93.599633     421.198349            50  371.198349\n",
       "1          75.105159     337.973213            50  287.973213\n",
       "2          90.066809     405.300642            50  355.300642\n",
       "3         105.162375     473.230688            50  423.230688\n",
       "4         115.303310     518.864897            50  468.864897"
      ]
     },
     "execution_count": 11,
     "metadata": {},
     "output_type": "execute_result"
    }
   ],
   "source": [
    "predicted_valid_2.head()"
   ]
  },
  {
   "cell_type": "markdown",
   "metadata": {},
   "source": [
    "- Смотрим, количесвто отрицательных по экономике местородений в регионе, делаем это методом query"
   ]
  },
  {
   "cell_type": "code",
   "execution_count": 12,
   "metadata": {
    "scrolled": false
   },
   "outputs": [
    {
     "data": {
      "text/plain": [
       "5"
      ]
     },
     "execution_count": 12,
     "metadata": {},
     "output_type": "execute_result"
    }
   ],
   "source": [
    "predicted_valid_0.query(\"income < 0\")['income'].count()"
   ]
  },
  {
   "cell_type": "code",
   "execution_count": 13,
   "metadata": {
    "scrolled": true
   },
   "outputs": [
    {
     "data": {
      "text/plain": [
       "4146"
      ]
     },
     "execution_count": 13,
     "metadata": {},
     "output_type": "execute_result"
    }
   ],
   "source": [
    "predicted_valid_1.query(\"income < 0\")['income'].count()"
   ]
  },
  {
   "cell_type": "code",
   "execution_count": 14,
   "metadata": {
    "scrolled": true
   },
   "outputs": [
    {
     "data": {
      "text/plain": [
       "0"
      ]
     },
     "execution_count": 14,
     "metadata": {},
     "output_type": "execute_result"
    }
   ],
   "source": [
    "predicted_valid_2.query('income < 0')['income'].count()"
   ]
  },
  {
   "cell_type": "markdown",
   "metadata": {},
   "source": [
    "**Вывод:** \n",
    "- Второй регион, может показаться менее привлекательным, так как имеем 4146  из 25000 отрицательных по экономике месторождений.\n",
    "- Третий регион сплош положительный, будем делать ставку на него"
   ]
  },
  {
   "cell_type": "markdown",
   "metadata": {},
   "source": [
    "# 4. Расчёт прибыли и рисков "
   ]
  },
  {
   "cell_type": "markdown",
   "metadata": {},
   "source": [
    "**Составим функцию с применненой в ней техникой Bootstrap**\n",
    "- На вход функции подаем обученную выборку, и номер региона\n",
    "- Создаем пустой лист values_sum\n",
    "- В цикле из 1000 повторений берем 500 рандомных строк с возвращением из представленных валидационных выборок (25000 строк) \n",
    "- На каждом этапе цикла для выброного сабсета считаем с сумму с 500 и добавляем данные  в созданный пустой лист.\n",
    "\n",
    "- После выхода их цикла строим график распределения средних из выборок и выводим 95% доверительный интервал также выводим среднее значение дохода из срдених всех выборок.\n"
   ]
  },
  {
   "cell_type": "code",
   "execution_count": 15,
   "metadata": {},
   "outputs": [],
   "source": [
    "def cofidence_int(sample, region):\n",
    "    state = np.random.RandomState(12345)\n",
    "    values_sum = []\n",
    "    for i in range(1000):\n",
    "        subsample = sample.sample(n = 500, replace=True, random_state=state)\n",
    "        values_sum.append(subsample['income'].sum())\n",
    "        \n",
    "    values_sum = pd.Series(values_sum)\n",
    "    sns.distplot(values_sum, kde=True, rug=False, color = 'b');\n",
    "    print(\"Total incmome for region from 500 oilfields {} is {:.1f} MM rub.\".format(region, values_sum.mean()))\n",
    "    print(\"95% confidence interval of total imcome for the region {} is between {:.1f} and {:.1f} MM rub.\".format(\n",
    "        region,values_sum.quantile(.025),values_sum.quantile(.975)))   \n",
    "    "
   ]
  },
  {
   "cell_type": "markdown",
   "metadata": {},
   "source": [
    "Применяем функцию для обученной выборки с трех регионов."
   ]
  },
  {
   "cell_type": "code",
   "execution_count": 16,
   "metadata": {
    "scrolled": false
   },
   "outputs": [
    {
     "name": "stdout",
     "output_type": "stream",
     "text": [
      "Total incmome for region from 500 oilfields 0 is 183350.1 MM rub.\n",
      "95% confidence interval of total imcome for the region 0 is between 178901.0 and 187864.1 MM rub.\n"
     ]
    },
    {
     "data": {
      "image/png": "[encoded data removed]",
      "text/plain": [
       "<Figure size 432x288 with 1 Axes>"
      ]
     },
     "metadata": {
      "needs_background": "light"
     },
     "output_type": "display_data"
    }
   ],
   "source": [
    "cofidence_int(predicted_valid_0, 0)"
   ]
  },
  {
   "cell_type": "code",
   "execution_count": 17,
   "metadata": {
    "scrolled": false
   },
   "outputs": [
    {
     "name": "stdout",
     "output_type": "stream",
     "text": [
      "Total incmome for region from 500 oilfields 1 is 129547.0 MM rub.\n",
      "95% confidence interval of total imcome for the region 1 is between 119843.0 and 138340.1 MM rub.\n"
     ]
    },
    {
     "data": {
      "image/png": "[encoded data removed]",
      "text/plain": [
       "<Figure size 432x288 with 1 Axes>"
      ]
     },
     "metadata": {
      "needs_background": "light"
     },
     "output_type": "display_data"
    }
   ],
   "source": [
    "cofidence_int(predicted_valid_1, 1)"
   ]
  },
  {
   "cell_type": "code",
   "execution_count": 18,
   "metadata": {
    "scrolled": true
   },
   "outputs": [
    {
     "name": "stdout",
     "output_type": "stream",
     "text": [
      "Total incmome for region from 500 oilfields 2 is 188780.1 MM rub.\n",
      "95% confidence interval of total imcome for the region 2 is between 184712.8 and 192765.1 MM rub.\n"
     ]
    },
    {
     "data": {
      "image/png": "[encoded data removed]",
      "text/plain": [
       "<Figure size 432x288 with 1 Axes>"
      ]
     },
     "metadata": {
      "needs_background": "light"
     },
     "output_type": "display_data"
    }
   ],
   "source": [
    "cofidence_int(predicted_valid_2, 2)"
   ]
  },
  {
   "cell_type": "markdown",
   "metadata": {},
   "source": [
    "**Вывод**\n",
    "- Второй регион самый перспектиный с ожидаемой средней выручкой с 500 месторождений 188780.1 ММ рублей и 95% доверетельным интревалом в границах  м/у 184712.8 и 192765.1 MM рублей. Риски по данному региону отсутсвуют так как мы выяснили, что отрицательная экономика при выбранных условиях для этого региона равна 0 случаев.\n",
    "- Первый регион имеет наименьшее среднее по запасам с следовательно и прибыли + там встречаются отрицательные по экономике кейсы, этот регион рекомендовать нельзя.\n",
    "- Так как на разработку месторождений у нас есть 10 млрд рублей, то это 200 пробуренных скважин = 200 разработанных месторождений, соответсвенно от бутстраповой выручки возьмем 40% (200/500х100%) и получаем что с заложенным бюджетом в 10 млрд рублей со второго региона может получить 75 млрд руб. Те выбранный регион окупит себя на 750% при данной экономической модели. Одним словом - нефтянка это выгодно."
   ]
  },
  {
   "cell_type": "markdown",
   "metadata": {},
   "source": [
    "# Чек-лист готовности проекта"
   ]
  },
  {
   "cell_type": "markdown",
   "metadata": {},
   "source": [
    "Поставьте 'x' в выполненных пунктах. Далее нажмите Shift+Enter."
   ]
  },
  {
   "cell_type": "markdown",
   "metadata": {},
   "source": [
    "- [x]  Jupyter Notebook открыт\n",
    "- [x]  Весь код выполняется без ошибок\n",
    "- [x]  Ячейки с кодом расположены в порядке исполнения\n",
    "- [x]  Выполнен шаг 1: данные подготовлены\n",
    "- [x]  Выполнен шаг 2: модели обучены и проверены\n",
    "    - [x]  Данные корректно разбиты на обучающую и валидационную выборки\n",
    "    - [x]  Модели обучены, предсказания сделаны\n",
    "    - [x]  Предсказания и правильные ответы на валидационной выборке сохранены\n",
    "    - [x]  На экране напечатаны результаты\n",
    "    - [x]  Сделаны выводы\n",
    "- [x]  Выполнен шаг 3: проведена подготовка к расчёту прибыли\n",
    "    - [x]  Для всех ключевых значений созданы константы Python\n",
    "    - [x]  Посчитано минимальное среднее количество продукта в месторождениях региона, достаточное для разработки\n",
    "    - [x]  По предыдущему пункту сделаны выводы\n",
    "    - [x]  Написана функция расчёта прибыли\n",
    "- [x]  Выполнен шаг 4: посчитаны риски и прибыль\n",
    "    - [x]  Проведена процедура *Bootstrap*\n",
    "    - [x]  Все параметры бутстрепа соответствуют условию\n",
    "    - [x]  Найдены все нужные величины\n",
    "    - [x]  Предложен регион для разработки месторождения\n",
    "    - [x]  Выбор региона обоснован"
   ]
  }
 ],
 "metadata": {
  "kernelspec": {
   "display_name": "Python 3",
   "language": "python",
   "name": "python3"
  },
  "language_info": {
   "codemirror_mode": {
    "name": "ipython",
    "version": 3
   },
   "file_extension": ".py",
   "mimetype": "text/x-python",
   "name": "python",
   "nbconvert_exporter": "python",
   "pygments_lexer": "ipython3",
   "version": "3.7.4"
  }
 },
 "nbformat": 4,
 "nbformat_minor": 2
}
