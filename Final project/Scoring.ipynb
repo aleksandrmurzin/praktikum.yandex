{
 "cells": [
  {
   "cell_type": "markdown",
   "metadata": {},
   "source": [
    "# План работ\n",
    "1. Подгружаем библиотеки и модули\n",
    "2. Подгружаем таблицы, исправляем типы данных и производим кодировку, попутно добавляя новые фичи\n",
    "3. Соединяем таблицы, заполняем пропуски\n",
    "4. Смотрим на зависимости м/у фичами и убираем те, что имеют высокую корреляцию\n",
    "5. Производим анализ причин почему могут уходить клиенты\n",
    "6. Избавляемся от дисбаланса классов\n",
    "7. Стандартизируем признаки\n",
    "8. Обучаем модели на стоковых гиперпараметрах\n",
    "9. Смотрим какие фичи более всего влияют на обучение моделей, их оставляем остальные удаляем\n",
    "10. Заново обучаем модели на стоковых гиперпараметрах и выбираем лучшую\n",
    "11. Подбираем гиперпараметры для лучшей модели\n",
    "12. Оцениваем финальный результат"
   ]
  },
  {
   "cell_type": "code",
   "execution_count": 1,
   "metadata": {},
   "outputs": [],
   "source": [
    "import pandas as pd\n",
    "import numpy as np\n",
    "import matplotlib.pyplot as plt\n",
    "import seaborn as sns"
   ]
  },
  {
   "cell_type": "code",
   "execution_count": 2,
   "metadata": {},
   "outputs": [],
   "source": [
    "from sklearn.preprocessing import OrdinalEncoder\n",
    "from sklearn.model_selection import train_test_split\n",
    "from sklearn.preprocessing import Normalizer\n",
    "from sklearn.preprocessing import StandardScaler\n",
    "from sklearn.utils import shuffle\n",
    "from sklearn.metrics import roc_curve, roc_auc_score, accuracy_score, f1_score,recall_score,precision_score\n",
    "from sklearn.metrics import confusion_matrix"
   ]
  },
  {
   "cell_type": "code",
   "execution_count": 3,
   "metadata": {},
   "outputs": [],
   "source": [
    "from sklearn.metrics import SCORERS"
   ]
  },
  {
   "cell_type": "code",
   "execution_count": 4,
   "metadata": {},
   "outputs": [],
   "source": [
    "from time import *"
   ]
  },
  {
   "cell_type": "code",
   "execution_count": 5,
   "metadata": {},
   "outputs": [],
   "source": [
    "from sklearn.linear_model import LogisticRegression\n",
    "from sklearn.tree import DecisionTreeClassifier\n",
    "from sklearn.ensemble import RandomForestClassifier\n",
    "from catboost import CatBoostClassifier\n",
    "from xgboost import XGBClassifier\n",
    "from lightgbm import LGBMClassifier\n",
    "from sklearn.model_selection import GridSearchCV"
   ]
  },
  {
   "cell_type": "code",
   "execution_count": 6,
   "metadata": {},
   "outputs": [],
   "source": [
    "pd.set_option('display.max_columns', None)\n",
    "pd.set_option('display.max_colwidth', -1)"
   ]
  },
  {
   "cell_type": "markdown",
   "metadata": {},
   "source": [
    "Подгружаем датасеты"
   ]
  },
  {
   "cell_type": "code",
   "execution_count": 7,
   "metadata": {},
   "outputs": [],
   "source": [
    "contract = pd.read_csv('/datasets/final_provider/contract.csv')\n",
    "personal = pd.read_csv('/datasets/final_provider/personal.csv')\n",
    "internet = pd.read_csv('/datasets/final_provider/internet.csv')\n",
    "phone = pd.read_csv('/datasets/final_provider/phone.csv')"
   ]
  },
  {
   "cell_type": "code",
   "execution_count": 8,
   "metadata": {
    "scrolled": true
   },
   "outputs": [
    {
     "name": "stdout",
     "output_type": "stream",
     "text": [
      "<class 'pandas.core.frame.DataFrame'>\n",
      "RangeIndex: 7043 entries, 0 to 7042\n",
      "Data columns (total 8 columns):\n",
      "customerID          7043 non-null object\n",
      "BeginDate           7043 non-null object\n",
      "EndDate             7043 non-null object\n",
      "Type                7043 non-null object\n",
      "PaperlessBilling    7043 non-null object\n",
      "PaymentMethod       7043 non-null object\n",
      "MonthlyCharges      7043 non-null float64\n",
      "TotalCharges        7043 non-null object\n",
      "dtypes: float64(1), object(7)\n",
      "memory usage: 440.3+ KB\n"
     ]
    }
   ],
   "source": [
    "contract.info()"
   ]
  },
  {
   "cell_type": "markdown",
   "metadata": {},
   "source": [
    "contract -  надо изменить типы данных у дат BeginDate, EndDate и ежемесячных и суммарных платежей. Надо закодировать категориальные признаки  "
   ]
  },
  {
   "cell_type": "code",
   "execution_count": 9,
   "metadata": {
    "scrolled": true
   },
   "outputs": [
    {
     "name": "stdout",
     "output_type": "stream",
     "text": [
      "<class 'pandas.core.frame.DataFrame'>\n",
      "RangeIndex: 7043 entries, 0 to 7042\n",
      "Data columns (total 5 columns):\n",
      "customerID       7043 non-null object\n",
      "gender           7043 non-null object\n",
      "SeniorCitizen    7043 non-null int64\n",
      "Partner          7043 non-null object\n",
      "Dependents       7043 non-null object\n",
      "dtypes: int64(1), object(4)\n",
      "memory usage: 275.2+ KB\n"
     ]
    }
   ],
   "source": [
    "personal.info()"
   ]
  },
  {
   "cell_type": "markdown",
   "metadata": {},
   "source": [
    "personal -  надо закодировать категориальные признаки\n"
   ]
  },
  {
   "cell_type": "code",
   "execution_count": 10,
   "metadata": {
    "scrolled": true
   },
   "outputs": [
    {
     "name": "stdout",
     "output_type": "stream",
     "text": [
      "<class 'pandas.core.frame.DataFrame'>\n",
      "RangeIndex: 5517 entries, 0 to 5516\n",
      "Data columns (total 8 columns):\n",
      "customerID          5517 non-null object\n",
      "InternetService     5517 non-null object\n",
      "OnlineSecurity      5517 non-null object\n",
      "OnlineBackup        5517 non-null object\n",
      "DeviceProtection    5517 non-null object\n",
      "TechSupport         5517 non-null object\n",
      "StreamingTV         5517 non-null object\n",
      "StreamingMovies     5517 non-null object\n",
      "dtypes: object(8)\n",
      "memory usage: 344.9+ KB\n"
     ]
    }
   ],
   "source": [
    "internet.info()"
   ]
  },
  {
   "cell_type": "markdown",
   "metadata": {},
   "source": [
    "internet -  надо закодировать категориальные признаки\n"
   ]
  },
  {
   "cell_type": "code",
   "execution_count": 11,
   "metadata": {
    "scrolled": true
   },
   "outputs": [
    {
     "name": "stdout",
     "output_type": "stream",
     "text": [
      "<class 'pandas.core.frame.DataFrame'>\n",
      "RangeIndex: 6361 entries, 0 to 6360\n",
      "Data columns (total 2 columns):\n",
      "customerID       6361 non-null object\n",
      "MultipleLines    6361 non-null object\n",
      "dtypes: object(2)\n",
      "memory usage: 99.5+ KB\n"
     ]
    }
   ],
   "source": [
    "phone.info()"
   ]
  },
  {
   "cell_type": "markdown",
   "metadata": {},
   "source": [
    "***Проведем анализ данных, для каждой из таблиц, параллельно будем кодировать категориальные признаки, менять тип данных и создавать фичи***"
   ]
  },
  {
   "cell_type": "markdown",
   "metadata": {},
   "source": [
    "***ENCODING***"
   ]
  },
  {
   "cell_type": "markdown",
   "metadata": {},
   "source": [
    "Кодируем данные для всех таблиц, для интернета и телефона добавим по столбцу с единицами. Так, мы сможем понять, кто к чему был подключен."
   ]
  },
  {
   "cell_type": "markdown",
   "metadata": {},
   "source": [
    "*INTERNET*"
   ]
  },
  {
   "cell_type": "code",
   "execution_count": 12,
   "metadata": {},
   "outputs": [],
   "source": [
    "encoder = OrdinalEncoder()"
   ]
  },
  {
   "cell_type": "code",
   "execution_count": 13,
   "metadata": {},
   "outputs": [],
   "source": [
    "internet_col = (internet.columns)"
   ]
  },
  {
   "cell_type": "code",
   "execution_count": 14,
   "metadata": {
    "scrolled": true
   },
   "outputs": [
    {
     "data": {
      "text/plain": [
       "Index(['customerID', 'InternetService', 'OnlineSecurity', 'OnlineBackup',\n",
       "       'DeviceProtection', 'TechSupport', 'StreamingTV', 'StreamingMovies'],\n",
       "      dtype='object')"
      ]
     },
     "execution_count": 14,
     "metadata": {},
     "output_type": "execute_result"
    }
   ],
   "source": [
    "internet_col"
   ]
  },
  {
   "cell_type": "code",
   "execution_count": 15,
   "metadata": {},
   "outputs": [],
   "source": [
    "internet_o= pd.DataFrame(encoder.fit_transform(internet[internet_col]), columns = internet_col)\n",
    "internet[['InternetService', 'OnlineSecurity', 'OnlineBackup',\n",
    "       'DeviceProtection', 'TechSupport', 'StreamingTV', 'StreamingMovies']] = internet_o[['InternetService', 'OnlineSecurity', 'OnlineBackup',\n",
    "       'DeviceProtection', 'TechSupport', 'StreamingTV', 'StreamingMovies']]"
   ]
  },
  {
   "cell_type": "code",
   "execution_count": 16,
   "metadata": {},
   "outputs": [],
   "source": [
    "internet.insert(0, 'Internet_customer', 1)"
   ]
  },
  {
   "cell_type": "code",
   "execution_count": 17,
   "metadata": {
    "scrolled": true
   },
   "outputs": [
    {
     "data": {
      "text/html": [
       "<div>\n",
       "<style scoped>\n",
       "    .dataframe tbody tr th:only-of-type {\n",
       "        vertical-align: middle;\n",
       "    }\n",
       "\n",
       "    .dataframe tbody tr th {\n",
       "        vertical-align: top;\n",
       "    }\n",
       "\n",
       "    .dataframe thead th {\n",
       "        text-align: right;\n",
       "    }\n",
       "</style>\n",
       "<table border=\"1\" class=\"dataframe\">\n",
       "  <thead>\n",
       "    <tr style=\"text-align: right;\">\n",
       "      <th></th>\n",
       "      <th>Internet_customer</th>\n",
       "      <th>customerID</th>\n",
       "      <th>InternetService</th>\n",
       "      <th>OnlineSecurity</th>\n",
       "      <th>OnlineBackup</th>\n",
       "      <th>DeviceProtection</th>\n",
       "      <th>TechSupport</th>\n",
       "      <th>StreamingTV</th>\n",
       "      <th>StreamingMovies</th>\n",
       "    </tr>\n",
       "  </thead>\n",
       "  <tbody>\n",
       "    <tr>\n",
       "      <td>0</td>\n",
       "      <td>1</td>\n",
       "      <td>7590-VHVEG</td>\n",
       "      <td>0.0</td>\n",
       "      <td>0.0</td>\n",
       "      <td>1.0</td>\n",
       "      <td>0.0</td>\n",
       "      <td>0.0</td>\n",
       "      <td>0.0</td>\n",
       "      <td>0.0</td>\n",
       "    </tr>\n",
       "    <tr>\n",
       "      <td>1</td>\n",
       "      <td>1</td>\n",
       "      <td>5575-GNVDE</td>\n",
       "      <td>0.0</td>\n",
       "      <td>1.0</td>\n",
       "      <td>0.0</td>\n",
       "      <td>1.0</td>\n",
       "      <td>0.0</td>\n",
       "      <td>0.0</td>\n",
       "      <td>0.0</td>\n",
       "    </tr>\n",
       "    <tr>\n",
       "      <td>2</td>\n",
       "      <td>1</td>\n",
       "      <td>3668-QPYBK</td>\n",
       "      <td>0.0</td>\n",
       "      <td>1.0</td>\n",
       "      <td>1.0</td>\n",
       "      <td>0.0</td>\n",
       "      <td>0.0</td>\n",
       "      <td>0.0</td>\n",
       "      <td>0.0</td>\n",
       "    </tr>\n",
       "  </tbody>\n",
       "</table>\n",
       "</div>"
      ],
      "text/plain": [
       "   Internet_customer  customerID  InternetService  OnlineSecurity  \\\n",
       "0  1                  7590-VHVEG  0.0              0.0              \n",
       "1  1                  5575-GNVDE  0.0              1.0              \n",
       "2  1                  3668-QPYBK  0.0              1.0              \n",
       "\n",
       "   OnlineBackup  DeviceProtection  TechSupport  StreamingTV  StreamingMovies  \n",
       "0  1.0           0.0               0.0          0.0          0.0              \n",
       "1  0.0           1.0               0.0          0.0          0.0              \n",
       "2  1.0           0.0               0.0          0.0          0.0              "
      ]
     },
     "execution_count": 17,
     "metadata": {},
     "output_type": "execute_result"
    }
   ],
   "source": [
    "internet.head(3)"
   ]
  },
  {
   "cell_type": "markdown",
   "metadata": {},
   "source": [
    "*PHONE*"
   ]
  },
  {
   "cell_type": "code",
   "execution_count": 18,
   "metadata": {},
   "outputs": [],
   "source": [
    "encoder = OrdinalEncoder()"
   ]
  },
  {
   "cell_type": "code",
   "execution_count": 19,
   "metadata": {},
   "outputs": [],
   "source": [
    "phone['MultipleLines_1'] = phone.MultipleLines"
   ]
  },
  {
   "cell_type": "code",
   "execution_count": 20,
   "metadata": {},
   "outputs": [],
   "source": [
    "phone_col = phone.columns"
   ]
  },
  {
   "cell_type": "code",
   "execution_count": 21,
   "metadata": {},
   "outputs": [],
   "source": [
    "phone_o = pd.DataFrame(encoder.fit_transform(phone[phone_col]), columns = phone_col)\n",
    "phone['MultipleLines'] = phone_o['MultipleLines']\n",
    "phone = phone.drop('MultipleLines_1', axis = 1)"
   ]
  },
  {
   "cell_type": "code",
   "execution_count": 22,
   "metadata": {},
   "outputs": [],
   "source": [
    "phone.insert(0, 'Phone_customer', 1)"
   ]
  },
  {
   "cell_type": "code",
   "execution_count": 23,
   "metadata": {},
   "outputs": [
    {
     "data": {
      "text/html": [
       "<div>\n",
       "<style scoped>\n",
       "    .dataframe tbody tr th:only-of-type {\n",
       "        vertical-align: middle;\n",
       "    }\n",
       "\n",
       "    .dataframe tbody tr th {\n",
       "        vertical-align: top;\n",
       "    }\n",
       "\n",
       "    .dataframe thead th {\n",
       "        text-align: right;\n",
       "    }\n",
       "</style>\n",
       "<table border=\"1\" class=\"dataframe\">\n",
       "  <thead>\n",
       "    <tr style=\"text-align: right;\">\n",
       "      <th></th>\n",
       "      <th>Phone_customer</th>\n",
       "      <th>customerID</th>\n",
       "      <th>MultipleLines</th>\n",
       "    </tr>\n",
       "  </thead>\n",
       "  <tbody>\n",
       "    <tr>\n",
       "      <td>0</td>\n",
       "      <td>1</td>\n",
       "      <td>5575-GNVDE</td>\n",
       "      <td>0.0</td>\n",
       "    </tr>\n",
       "    <tr>\n",
       "      <td>1</td>\n",
       "      <td>1</td>\n",
       "      <td>3668-QPYBK</td>\n",
       "      <td>0.0</td>\n",
       "    </tr>\n",
       "    <tr>\n",
       "      <td>2</td>\n",
       "      <td>1</td>\n",
       "      <td>9237-HQITU</td>\n",
       "      <td>0.0</td>\n",
       "    </tr>\n",
       "    <tr>\n",
       "      <td>3</td>\n",
       "      <td>1</td>\n",
       "      <td>9305-CDSKC</td>\n",
       "      <td>1.0</td>\n",
       "    </tr>\n",
       "    <tr>\n",
       "      <td>4</td>\n",
       "      <td>1</td>\n",
       "      <td>1452-KIOVK</td>\n",
       "      <td>1.0</td>\n",
       "    </tr>\n",
       "  </tbody>\n",
       "</table>\n",
       "</div>"
      ],
      "text/plain": [
       "   Phone_customer  customerID  MultipleLines\n",
       "0  1               5575-GNVDE  0.0          \n",
       "1  1               3668-QPYBK  0.0          \n",
       "2  1               9237-HQITU  0.0          \n",
       "3  1               9305-CDSKC  1.0          \n",
       "4  1               1452-KIOVK  1.0          "
      ]
     },
     "execution_count": 23,
     "metadata": {},
     "output_type": "execute_result"
    }
   ],
   "source": [
    "phone.head(5)"
   ]
  },
  {
   "cell_type": "markdown",
   "metadata": {},
   "source": [
    "*CONTRACT*"
   ]
  },
  {
   "cell_type": "code",
   "execution_count": 27,
   "metadata": {},
   "outputs": [],
   "source": [
    "contract_col = ['PaperlessBilling','Type','PaymentMethod' ]"
   ]
  },
  {
   "cell_type": "code",
   "execution_count": 28,
   "metadata": {},
   "outputs": [],
   "source": [
    "contract_o = pd.DataFrame(encoder.fit_transform(contract[contract_col]), columns = contract_col)\n",
    "contract[contract_col] = contract_o[contract_col]"
   ]
  },
  {
   "cell_type": "markdown",
   "metadata": {},
   "source": [
    "*PERSONAL*"
   ]
  },
  {
   "cell_type": "code",
   "execution_count": 29,
   "metadata": {},
   "outputs": [],
   "source": [
    "personal_o = pd.DataFrame(encoder.fit_transform(personal[['gender', 'Partner', 'Dependents']]),\n",
    "                          columns =[['gender',  'Partner', 'Dependents']] )\n",
    "personal[['gender',  'Partner', 'Dependents']] = personal_o[['gender',  'Partner', 'Dependents']]"
   ]
  },
  {
   "cell_type": "code",
   "execution_count": 30,
   "metadata": {
    "scrolled": true
   },
   "outputs": [
    {
     "data": {
      "text/html": [
       "<div>\n",
       "<style scoped>\n",
       "    .dataframe tbody tr th:only-of-type {\n",
       "        vertical-align: middle;\n",
       "    }\n",
       "\n",
       "    .dataframe tbody tr th {\n",
       "        vertical-align: top;\n",
       "    }\n",
       "\n",
       "    .dataframe thead th {\n",
       "        text-align: right;\n",
       "    }\n",
       "</style>\n",
       "<table border=\"1\" class=\"dataframe\">\n",
       "  <thead>\n",
       "    <tr style=\"text-align: right;\">\n",
       "      <th></th>\n",
       "      <th>customerID</th>\n",
       "      <th>gender</th>\n",
       "      <th>SeniorCitizen</th>\n",
       "      <th>Partner</th>\n",
       "      <th>Dependents</th>\n",
       "    </tr>\n",
       "  </thead>\n",
       "  <tbody>\n",
       "    <tr>\n",
       "      <td>0</td>\n",
       "      <td>7590-VHVEG</td>\n",
       "      <td>0.0</td>\n",
       "      <td>0</td>\n",
       "      <td>1.0</td>\n",
       "      <td>0.0</td>\n",
       "    </tr>\n",
       "    <tr>\n",
       "      <td>1</td>\n",
       "      <td>5575-GNVDE</td>\n",
       "      <td>1.0</td>\n",
       "      <td>0</td>\n",
       "      <td>0.0</td>\n",
       "      <td>0.0</td>\n",
       "    </tr>\n",
       "    <tr>\n",
       "      <td>2</td>\n",
       "      <td>3668-QPYBK</td>\n",
       "      <td>1.0</td>\n",
       "      <td>0</td>\n",
       "      <td>0.0</td>\n",
       "      <td>0.0</td>\n",
       "    </tr>\n",
       "  </tbody>\n",
       "</table>\n",
       "</div>"
      ],
      "text/plain": [
       "   customerID  gender  SeniorCitizen  Partner  Dependents\n",
       "0  7590-VHVEG  0.0     0              1.0      0.0       \n",
       "1  5575-GNVDE  1.0     0              0.0      0.0       \n",
       "2  3668-QPYBK  1.0     0              0.0      0.0       "
      ]
     },
     "execution_count": 30,
     "metadata": {},
     "output_type": "execute_result"
    }
   ],
   "source": [
    "personal.head(3)"
   ]
  },
  {
   "cell_type": "markdown",
   "metadata": {},
   "source": [
    "<font color='purple'>Создадим фичу, которая отвечает за наличие семьи</font>"
   ]
  },
  {
   "cell_type": "code",
   "execution_count": 31,
   "metadata": {},
   "outputs": [],
   "source": [
    "personal['family'] = personal['Partner'] + personal['Dependents']"
   ]
  },
  {
   "cell_type": "code",
   "execution_count": 32,
   "metadata": {},
   "outputs": [],
   "source": [
    "def family_member(x):\n",
    "    if x >= 1:\n",
    "        x = 1\n",
    "    else:\n",
    "        x = 0\n",
    "    return x"
   ]
  },
  {
   "cell_type": "code",
   "execution_count": 33,
   "metadata": {},
   "outputs": [],
   "source": [
    "personal['family'] =personal['family'].apply(lambda x: family_member(x))"
   ]
  },
  {
   "cell_type": "markdown",
   "metadata": {},
   "source": [
    "***MERGING***"
   ]
  },
  {
   "cell_type": "markdown",
   "metadata": {},
   "source": [
    "Соединяем таблицы"
   ]
  },
  {
   "cell_type": "code",
   "execution_count": 34,
   "metadata": {},
   "outputs": [],
   "source": [
    "data = pd.merge(contract, personal , how = 'outer', on = 'customerID')\n",
    "data = pd.merge(data, internet, how = 'outer', on = 'customerID')\n",
    "data = pd.merge(data, phone, how = 'outer', on = 'customerID')"
   ]
  },
  {
   "cell_type": "code",
   "execution_count": 35,
   "metadata": {},
   "outputs": [],
   "source": [
    "data.TotalCharges = pd.to_numeric(data.TotalCharges, errors = 'coerce')\n",
    "data.SeniorCitizen = pd.to_numeric(data.SeniorCitizen, errors = 'coerce')"
   ]
  },
  {
   "cell_type": "code",
   "execution_count": 36,
   "metadata": {},
   "outputs": [],
   "source": [
    "data.EndDate = pd.to_datetime(data.EndDate, errors = 'coerce')"
   ]
  },
  {
   "cell_type": "code",
   "execution_count": 37,
   "metadata": {},
   "outputs": [],
   "source": [
    "data.BeginDate = pd.to_datetime(data.BeginDate)"
   ]
  },
  {
   "cell_type": "markdown",
   "metadata": {},
   "source": [
    "***Features engireering***"
   ]
  },
  {
   "cell_type": "markdown",
   "metadata": {},
   "source": [
    "Создаем столбец искомой переменной, ушел клинет или нет. Если в столбце EndDate стоит NaN, значит клиент еще не ушел, следовательно ставим 0. Для остальных ставим единицу."
   ]
  },
  {
   "cell_type": "markdown",
   "metadata": {},
   "source": [
    "<font color='blue'><u><b>КОММЕНТАРИЙ РЕВЬЮЕРА</b></u></font><br />\n",
    "<font color='green'>\n",
    "да, согласен)"
   ]
  },
  {
   "cell_type": "code",
   "execution_count": 38,
   "metadata": {},
   "outputs": [],
   "source": [
    "def end_date(y):\n",
    "    if y != 0:\n",
    "        y = 1\n",
    "    return y"
   ]
  },
  {
   "cell_type": "code",
   "execution_count": 39,
   "metadata": {},
   "outputs": [],
   "source": [
    "data['target'] = data['EndDate'].fillna(0)\n",
    "data['target'] = data['target'].apply(lambda x: end_date(x))"
   ]
  },
  {
   "cell_type": "markdown",
   "metadata": {},
   "source": [
    "Добавим столбец difference, как разницу между расторжением и заключением договора в днях, для тех кто не разорвал договор поставим дату 2020-02-01"
   ]
  },
  {
   "cell_type": "code",
   "execution_count": 40,
   "metadata": {},
   "outputs": [],
   "source": [
    "end = pd.to_datetime('2020-02-01')\n",
    "data.EndDate = data.EndDate.fillna(end)\n",
    "data['difference'] = (data.EndDate - data.BeginDate).dt.days"
   ]
  },
  {
   "cell_type": "code",
   "execution_count": 41,
   "metadata": {
    "scrolled": true
   },
   "outputs": [
    {
     "name": "stdout",
     "output_type": "stream",
     "text": [
      "<class 'pandas.core.frame.DataFrame'>\n",
      "Int64Index: 7043 entries, 0 to 7042\n",
      "Data columns (total 25 columns):\n",
      "customerID           7043 non-null object\n",
      "BeginDate            7043 non-null datetime64[ns]\n",
      "EndDate              7043 non-null datetime64[ns]\n",
      "Type                 7043 non-null float64\n",
      "PaperlessBilling     7043 non-null float64\n",
      "PaymentMethod        7043 non-null float64\n",
      "MonthlyCharges       7043 non-null float64\n",
      "TotalCharges         7032 non-null float64\n",
      "gender               7043 non-null float64\n",
      "SeniorCitizen        7043 non-null int64\n",
      "Partner              7043 non-null float64\n",
      "Dependents           7043 non-null float64\n",
      "family               7043 non-null int64\n",
      "Internet_customer    5517 non-null float64\n",
      "InternetService      5517 non-null float64\n",
      "OnlineSecurity       5517 non-null float64\n",
      "OnlineBackup         5517 non-null float64\n",
      "DeviceProtection     5517 non-null float64\n",
      "TechSupport          5517 non-null float64\n",
      "StreamingTV          5517 non-null float64\n",
      "StreamingMovies      5517 non-null float64\n",
      "Phone_customer       6361 non-null float64\n",
      "MultipleLines        6361 non-null float64\n",
      "target               7043 non-null int64\n",
      "difference           7043 non-null int64\n",
      "dtypes: datetime64[ns](2), float64(18), int64(4), object(1)\n",
      "memory usage: 1.4+ MB\n"
     ]
    }
   ],
   "source": [
    "data.info()"
   ]
  },
  {
   "cell_type": "code",
   "execution_count": 42,
   "metadata": {
    "scrolled": true
   },
   "outputs": [
    {
     "data": {
      "text/plain": [
       "<matplotlib.axes._subplots.AxesSubplot at 0x7f7ddeb10510>"
      ]
     },
     "execution_count": 42,
     "metadata": {},
     "output_type": "execute_result"
    },
    {
     "data": {
      "image/png": "[encoded data removed]",
      "text/plain": [
       "<Figure size 432x288 with 1 Axes>"
      ]
     },
     "metadata": {
      "needs_background": "light"
     },
     "output_type": "display_data"
    }
   ],
   "source": [
    "data[data.target == 0].difference.plot(kind = 'hist', bins = 50)"
   ]
  },
  {
   "cell_type": "code",
   "execution_count": 43,
   "metadata": {},
   "outputs": [
    {
     "data": {
      "text/plain": [
       "<matplotlib.axes._subplots.AxesSubplot at 0x7f7ddea26950>"
      ]
     },
     "execution_count": 43,
     "metadata": {},
     "output_type": "execute_result"
    },
    {
     "data": {
      "image/png": "[encoded data removed]",
      "text/plain": [
       "<Figure size 432x288 with 1 Axes>"
      ]
     },
     "metadata": {
      "needs_background": "light"
     },
     "output_type": "display_data"
    }
   ],
   "source": [
    "data[data.target == 1].difference.plot(kind = 'hist', bins = 50)"
   ]
  },
  {
   "cell_type": "code",
   "execution_count": 44,
   "metadata": {
    "scrolled": false
   },
   "outputs": [
    {
     "data": {
      "text/html": [
       "<div>\n",
       "<style scoped>\n",
       "    .dataframe tbody tr th:only-of-type {\n",
       "        vertical-align: middle;\n",
       "    }\n",
       "\n",
       "    .dataframe tbody tr th {\n",
       "        vertical-align: top;\n",
       "    }\n",
       "\n",
       "    .dataframe thead th {\n",
       "        text-align: right;\n",
       "    }\n",
       "</style>\n",
       "<table border=\"1\" class=\"dataframe\">\n",
       "  <thead>\n",
       "    <tr style=\"text-align: right;\">\n",
       "      <th></th>\n",
       "      <th>customerID</th>\n",
       "      <th>BeginDate</th>\n",
       "      <th>EndDate</th>\n",
       "      <th>Type</th>\n",
       "      <th>PaperlessBilling</th>\n",
       "      <th>PaymentMethod</th>\n",
       "      <th>MonthlyCharges</th>\n",
       "      <th>TotalCharges</th>\n",
       "      <th>gender</th>\n",
       "      <th>SeniorCitizen</th>\n",
       "      <th>Partner</th>\n",
       "      <th>Dependents</th>\n",
       "      <th>family</th>\n",
       "      <th>Internet_customer</th>\n",
       "      <th>InternetService</th>\n",
       "      <th>OnlineSecurity</th>\n",
       "      <th>OnlineBackup</th>\n",
       "      <th>DeviceProtection</th>\n",
       "      <th>TechSupport</th>\n",
       "      <th>StreamingTV</th>\n",
       "      <th>StreamingMovies</th>\n",
       "      <th>Phone_customer</th>\n",
       "      <th>MultipleLines</th>\n",
       "      <th>target</th>\n",
       "      <th>difference</th>\n",
       "    </tr>\n",
       "  </thead>\n",
       "  <tbody>\n",
       "    <tr>\n",
       "      <td>0</td>\n",
       "      <td>7590-VHVEG</td>\n",
       "      <td>2020-01-01</td>\n",
       "      <td>2020-02-01</td>\n",
       "      <td>0.0</td>\n",
       "      <td>1.0</td>\n",
       "      <td>2.0</td>\n",
       "      <td>29.85</td>\n",
       "      <td>29.85</td>\n",
       "      <td>0.0</td>\n",
       "      <td>0</td>\n",
       "      <td>1.0</td>\n",
       "      <td>0.0</td>\n",
       "      <td>1</td>\n",
       "      <td>1.0</td>\n",
       "      <td>0.0</td>\n",
       "      <td>0.0</td>\n",
       "      <td>1.0</td>\n",
       "      <td>0.0</td>\n",
       "      <td>0.0</td>\n",
       "      <td>0.0</td>\n",
       "      <td>0.0</td>\n",
       "      <td>NaN</td>\n",
       "      <td>NaN</td>\n",
       "      <td>0</td>\n",
       "      <td>31</td>\n",
       "    </tr>\n",
       "    <tr>\n",
       "      <td>1</td>\n",
       "      <td>5575-GNVDE</td>\n",
       "      <td>2017-04-01</td>\n",
       "      <td>2020-02-01</td>\n",
       "      <td>1.0</td>\n",
       "      <td>0.0</td>\n",
       "      <td>3.0</td>\n",
       "      <td>56.95</td>\n",
       "      <td>1889.50</td>\n",
       "      <td>1.0</td>\n",
       "      <td>0</td>\n",
       "      <td>0.0</td>\n",
       "      <td>0.0</td>\n",
       "      <td>0</td>\n",
       "      <td>1.0</td>\n",
       "      <td>0.0</td>\n",
       "      <td>1.0</td>\n",
       "      <td>0.0</td>\n",
       "      <td>1.0</td>\n",
       "      <td>0.0</td>\n",
       "      <td>0.0</td>\n",
       "      <td>0.0</td>\n",
       "      <td>1.0</td>\n",
       "      <td>0.0</td>\n",
       "      <td>0</td>\n",
       "      <td>1036</td>\n",
       "    </tr>\n",
       "    <tr>\n",
       "      <td>2</td>\n",
       "      <td>3668-QPYBK</td>\n",
       "      <td>2019-10-01</td>\n",
       "      <td>2019-12-01</td>\n",
       "      <td>0.0</td>\n",
       "      <td>1.0</td>\n",
       "      <td>3.0</td>\n",
       "      <td>53.85</td>\n",
       "      <td>108.15</td>\n",
       "      <td>1.0</td>\n",
       "      <td>0</td>\n",
       "      <td>0.0</td>\n",
       "      <td>0.0</td>\n",
       "      <td>0</td>\n",
       "      <td>1.0</td>\n",
       "      <td>0.0</td>\n",
       "      <td>1.0</td>\n",
       "      <td>1.0</td>\n",
       "      <td>0.0</td>\n",
       "      <td>0.0</td>\n",
       "      <td>0.0</td>\n",
       "      <td>0.0</td>\n",
       "      <td>1.0</td>\n",
       "      <td>0.0</td>\n",
       "      <td>1</td>\n",
       "      <td>61</td>\n",
       "    </tr>\n",
       "  </tbody>\n",
       "</table>\n",
       "</div>"
      ],
      "text/plain": [
       "   customerID  BeginDate    EndDate  Type  PaperlessBilling  PaymentMethod  \\\n",
       "0  7590-VHVEG 2020-01-01 2020-02-01  0.0   1.0               2.0             \n",
       "1  5575-GNVDE 2017-04-01 2020-02-01  1.0   0.0               3.0             \n",
       "2  3668-QPYBK 2019-10-01 2019-12-01  0.0   1.0               3.0             \n",
       "\n",
       "   MonthlyCharges  TotalCharges  gender  SeniorCitizen  Partner  Dependents  \\\n",
       "0  29.85           29.85         0.0     0              1.0      0.0          \n",
       "1  56.95           1889.50       1.0     0              0.0      0.0          \n",
       "2  53.85           108.15        1.0     0              0.0      0.0          \n",
       "\n",
       "   family  Internet_customer  InternetService  OnlineSecurity  OnlineBackup  \\\n",
       "0  1       1.0                0.0              0.0             1.0            \n",
       "1  0       1.0                0.0              1.0             0.0            \n",
       "2  0       1.0                0.0              1.0             1.0            \n",
       "\n",
       "   DeviceProtection  TechSupport  StreamingTV  StreamingMovies  \\\n",
       "0  0.0               0.0          0.0          0.0               \n",
       "1  1.0               0.0          0.0          0.0               \n",
       "2  0.0               0.0          0.0          0.0               \n",
       "\n",
       "   Phone_customer  MultipleLines  target  difference  \n",
       "0 NaN             NaN             0       31          \n",
       "1  1.0             0.0            0       1036        \n",
       "2  1.0             0.0            1       61          "
      ]
     },
     "execution_count": 44,
     "metadata": {},
     "output_type": "execute_result"
    }
   ],
   "source": [
    "data.head(3)"
   ]
  },
  {
   "cell_type": "markdown",
   "metadata": {},
   "source": [
    "Посмотрим на скорость оттока клиентов по месяцам"
   ]
  },
  {
   "cell_type": "code",
   "execution_count": 45,
   "metadata": {
    "scrolled": true
   },
   "outputs": [
    {
     "data": {
      "text/plain": [
       "array(['2020-02-01T00:00:00.000000000', '2019-12-01T00:00:00.000000000',\n",
       "       '2019-11-01T00:00:00.000000000', '2019-10-01T00:00:00.000000000',\n",
       "       '2020-01-01T00:00:00.000000000'], dtype='datetime64[ns]')"
      ]
     },
     "execution_count": 45,
     "metadata": {},
     "output_type": "execute_result"
    }
   ],
   "source": [
    "data['EndDate'].unique()"
   ]
  },
  {
   "cell_type": "code",
   "execution_count": 46,
   "metadata": {},
   "outputs": [],
   "source": [
    "data_leaving_rate = data[data['target']==1].pivot_table( index ='EndDate', values = 'target', aggfunc = 'count').sort_index()"
   ]
  },
  {
   "cell_type": "code",
   "execution_count": 47,
   "metadata": {
    "scrolled": false
   },
   "outputs": [
    {
     "data": {
      "text/html": [
       "<div>\n",
       "<style scoped>\n",
       "    .dataframe tbody tr th:only-of-type {\n",
       "        vertical-align: middle;\n",
       "    }\n",
       "\n",
       "    .dataframe tbody tr th {\n",
       "        vertical-align: top;\n",
       "    }\n",
       "\n",
       "    .dataframe thead th {\n",
       "        text-align: right;\n",
       "    }\n",
       "</style>\n",
       "<table border=\"1\" class=\"dataframe\">\n",
       "  <thead>\n",
       "    <tr style=\"text-align: right;\">\n",
       "      <th></th>\n",
       "      <th>target</th>\n",
       "    </tr>\n",
       "    <tr>\n",
       "      <th>EndDate</th>\n",
       "      <th></th>\n",
       "    </tr>\n",
       "  </thead>\n",
       "  <tbody>\n",
       "    <tr>\n",
       "      <td>2019-10-01</td>\n",
       "      <td>458</td>\n",
       "    </tr>\n",
       "    <tr>\n",
       "      <td>2019-11-01</td>\n",
       "      <td>485</td>\n",
       "    </tr>\n",
       "    <tr>\n",
       "      <td>2019-12-01</td>\n",
       "      <td>466</td>\n",
       "    </tr>\n",
       "    <tr>\n",
       "      <td>2020-01-01</td>\n",
       "      <td>460</td>\n",
       "    </tr>\n",
       "  </tbody>\n",
       "</table>\n",
       "</div>"
      ],
      "text/plain": [
       "            target\n",
       "EndDate           \n",
       "2019-10-01  458   \n",
       "2019-11-01  485   \n",
       "2019-12-01  466   \n",
       "2020-01-01  460   "
      ]
     },
     "execution_count": 47,
     "metadata": {},
     "output_type": "execute_result"
    }
   ],
   "source": [
    "data_leaving_rate.head()"
   ]
  },
  {
   "cell_type": "markdown",
   "metadata": {},
   "source": [
    " Таблица обрезана на последнии 4 месяца, нельзя убедиться в увеличеннии числа ушедших клиентов."
   ]
  },
  {
   "cell_type": "markdown",
   "metadata": {},
   "source": [
    "***Работа с пропусками***"
   ]
  },
  {
   "cell_type": "markdown",
   "metadata": {},
   "source": [
    "Заполним пропуски нулями"
   ]
  },
  {
   "cell_type": "code",
   "execution_count": 48,
   "metadata": {
    "scrolled": false
   },
   "outputs": [
    {
     "name": "stdout",
     "output_type": "stream",
     "text": [
      "customerID           0   \n",
      "BeginDate            0   \n",
      "EndDate              0   \n",
      "Type                 0   \n",
      "PaperlessBilling     0   \n",
      "PaymentMethod        0   \n",
      "MonthlyCharges       0   \n",
      "TotalCharges         11  \n",
      "gender               0   \n",
      "SeniorCitizen        0   \n",
      "Partner              0   \n",
      "Dependents           0   \n",
      "family               0   \n",
      "Internet_customer    1526\n",
      "InternetService      1526\n",
      "OnlineSecurity       1526\n",
      "OnlineBackup         1526\n",
      "DeviceProtection     1526\n",
      "TechSupport          1526\n",
      "StreamingTV          1526\n",
      "StreamingMovies      1526\n",
      "Phone_customer       682 \n",
      "MultipleLines        682 \n",
      "target               0   \n",
      "difference           0   \n",
      "dtype: int64\n"
     ]
    }
   ],
   "source": [
    "print(data.isnull().sum())"
   ]
  },
  {
   "cell_type": "code",
   "execution_count": 49,
   "metadata": {
    "scrolled": true
   },
   "outputs": [],
   "source": [
    "data.dropna(subset = ['TotalCharges'], inplace = True)"
   ]
  },
  {
   "cell_type": "code",
   "execution_count": 50,
   "metadata": {},
   "outputs": [],
   "source": [
    "data = data.drop(['BeginDate','EndDate','customerID'], axis = 1)"
   ]
  },
  {
   "cell_type": "code",
   "execution_count": 51,
   "metadata": {
    "scrolled": true
   },
   "outputs": [],
   "source": [
    "data = data.fillna(0)"
   ]
  },
  {
   "cell_type": "markdown",
   "metadata": {},
   "source": [
    "#### Анализ аномалий"
   ]
  },
  {
   "cell_type": "code",
   "execution_count": 52,
   "metadata": {
    "scrolled": false
   },
   "outputs": [
    {
     "data": {
      "text/html": [
       "<div>\n",
       "<style scoped>\n",
       "    .dataframe tbody tr th:only-of-type {\n",
       "        vertical-align: middle;\n",
       "    }\n",
       "\n",
       "    .dataframe tbody tr th {\n",
       "        vertical-align: top;\n",
       "    }\n",
       "\n",
       "    .dataframe thead th {\n",
       "        text-align: right;\n",
       "    }\n",
       "</style>\n",
       "<table border=\"1\" class=\"dataframe\">\n",
       "  <thead>\n",
       "    <tr style=\"text-align: right;\">\n",
       "      <th></th>\n",
       "      <th>Type</th>\n",
       "      <th>PaperlessBilling</th>\n",
       "      <th>PaymentMethod</th>\n",
       "      <th>MonthlyCharges</th>\n",
       "      <th>TotalCharges</th>\n",
       "      <th>gender</th>\n",
       "      <th>SeniorCitizen</th>\n",
       "      <th>Partner</th>\n",
       "      <th>Dependents</th>\n",
       "      <th>family</th>\n",
       "      <th>Internet_customer</th>\n",
       "      <th>InternetService</th>\n",
       "      <th>OnlineSecurity</th>\n",
       "      <th>OnlineBackup</th>\n",
       "      <th>DeviceProtection</th>\n",
       "      <th>TechSupport</th>\n",
       "      <th>StreamingTV</th>\n",
       "      <th>StreamingMovies</th>\n",
       "      <th>Phone_customer</th>\n",
       "      <th>MultipleLines</th>\n",
       "      <th>target</th>\n",
       "      <th>difference</th>\n",
       "    </tr>\n",
       "  </thead>\n",
       "  <tbody>\n",
       "    <tr>\n",
       "      <td>count</td>\n",
       "      <td>7032.000000</td>\n",
       "      <td>7032.000000</td>\n",
       "      <td>7032.000000</td>\n",
       "      <td>7032.000000</td>\n",
       "      <td>7032.000000</td>\n",
       "      <td>7032.000000</td>\n",
       "      <td>7032.000000</td>\n",
       "      <td>7032.000000</td>\n",
       "      <td>7032.000000</td>\n",
       "      <td>7032.000000</td>\n",
       "      <td>7032.000000</td>\n",
       "      <td>7032.000000</td>\n",
       "      <td>7032.000000</td>\n",
       "      <td>7032.000000</td>\n",
       "      <td>7032.000000</td>\n",
       "      <td>7032.000000</td>\n",
       "      <td>7032.000000</td>\n",
       "      <td>7032.000000</td>\n",
       "      <td>7032.000000</td>\n",
       "      <td>7032.000000</td>\n",
       "      <td>7032.000000</td>\n",
       "      <td>7032.000000</td>\n",
       "    </tr>\n",
       "    <tr>\n",
       "      <td>mean</td>\n",
       "      <td>0.688567</td>\n",
       "      <td>0.592719</td>\n",
       "      <td>1.573237</td>\n",
       "      <td>64.798208</td>\n",
       "      <td>2283.300441</td>\n",
       "      <td>0.504693</td>\n",
       "      <td>0.162400</td>\n",
       "      <td>0.482509</td>\n",
       "      <td>0.298493</td>\n",
       "      <td>0.533561</td>\n",
       "      <td>0.783845</td>\n",
       "      <td>0.440273</td>\n",
       "      <td>0.286547</td>\n",
       "      <td>0.344852</td>\n",
       "      <td>0.343857</td>\n",
       "      <td>0.290102</td>\n",
       "      <td>0.384386</td>\n",
       "      <td>0.388367</td>\n",
       "      <td>0.903299</td>\n",
       "      <td>0.421928</td>\n",
       "      <td>0.265785</td>\n",
       "      <td>987.538538</td>\n",
       "    </tr>\n",
       "    <tr>\n",
       "      <td>std</td>\n",
       "      <td>0.832934</td>\n",
       "      <td>0.491363</td>\n",
       "      <td>1.067504</td>\n",
       "      <td>30.085974</td>\n",
       "      <td>2266.771362</td>\n",
       "      <td>0.500014</td>\n",
       "      <td>0.368844</td>\n",
       "      <td>0.499729</td>\n",
       "      <td>0.457629</td>\n",
       "      <td>0.498908</td>\n",
       "      <td>0.411650</td>\n",
       "      <td>0.496455</td>\n",
       "      <td>0.452180</td>\n",
       "      <td>0.475354</td>\n",
       "      <td>0.475028</td>\n",
       "      <td>0.453842</td>\n",
       "      <td>0.486484</td>\n",
       "      <td>0.487414</td>\n",
       "      <td>0.295571</td>\n",
       "      <td>0.493902</td>\n",
       "      <td>0.441782</td>\n",
       "      <td>747.153663</td>\n",
       "    </tr>\n",
       "    <tr>\n",
       "      <td>min</td>\n",
       "      <td>0.000000</td>\n",
       "      <td>0.000000</td>\n",
       "      <td>0.000000</td>\n",
       "      <td>18.250000</td>\n",
       "      <td>18.800000</td>\n",
       "      <td>0.000000</td>\n",
       "      <td>0.000000</td>\n",
       "      <td>0.000000</td>\n",
       "      <td>0.000000</td>\n",
       "      <td>0.000000</td>\n",
       "      <td>0.000000</td>\n",
       "      <td>0.000000</td>\n",
       "      <td>0.000000</td>\n",
       "      <td>0.000000</td>\n",
       "      <td>0.000000</td>\n",
       "      <td>0.000000</td>\n",
       "      <td>0.000000</td>\n",
       "      <td>0.000000</td>\n",
       "      <td>0.000000</td>\n",
       "      <td>0.000000</td>\n",
       "      <td>0.000000</td>\n",
       "      <td>30.000000</td>\n",
       "    </tr>\n",
       "    <tr>\n",
       "      <td>25%</td>\n",
       "      <td>0.000000</td>\n",
       "      <td>0.000000</td>\n",
       "      <td>1.000000</td>\n",
       "      <td>35.587500</td>\n",
       "      <td>401.450000</td>\n",
       "      <td>0.000000</td>\n",
       "      <td>0.000000</td>\n",
       "      <td>0.000000</td>\n",
       "      <td>0.000000</td>\n",
       "      <td>0.000000</td>\n",
       "      <td>1.000000</td>\n",
       "      <td>0.000000</td>\n",
       "      <td>0.000000</td>\n",
       "      <td>0.000000</td>\n",
       "      <td>0.000000</td>\n",
       "      <td>0.000000</td>\n",
       "      <td>0.000000</td>\n",
       "      <td>0.000000</td>\n",
       "      <td>1.000000</td>\n",
       "      <td>0.000000</td>\n",
       "      <td>0.000000</td>\n",
       "      <td>275.000000</td>\n",
       "    </tr>\n",
       "    <tr>\n",
       "      <td>50%</td>\n",
       "      <td>0.000000</td>\n",
       "      <td>1.000000</td>\n",
       "      <td>2.000000</td>\n",
       "      <td>70.350000</td>\n",
       "      <td>1397.475000</td>\n",
       "      <td>1.000000</td>\n",
       "      <td>0.000000</td>\n",
       "      <td>0.000000</td>\n",
       "      <td>0.000000</td>\n",
       "      <td>1.000000</td>\n",
       "      <td>1.000000</td>\n",
       "      <td>0.000000</td>\n",
       "      <td>0.000000</td>\n",
       "      <td>0.000000</td>\n",
       "      <td>0.000000</td>\n",
       "      <td>0.000000</td>\n",
       "      <td>0.000000</td>\n",
       "      <td>0.000000</td>\n",
       "      <td>1.000000</td>\n",
       "      <td>0.000000</td>\n",
       "      <td>0.000000</td>\n",
       "      <td>883.000000</td>\n",
       "    </tr>\n",
       "    <tr>\n",
       "      <td>75%</td>\n",
       "      <td>1.000000</td>\n",
       "      <td>1.000000</td>\n",
       "      <td>2.000000</td>\n",
       "      <td>89.862500</td>\n",
       "      <td>3794.737500</td>\n",
       "      <td>1.000000</td>\n",
       "      <td>0.000000</td>\n",
       "      <td>1.000000</td>\n",
       "      <td>1.000000</td>\n",
       "      <td>1.000000</td>\n",
       "      <td>1.000000</td>\n",
       "      <td>1.000000</td>\n",
       "      <td>1.000000</td>\n",
       "      <td>1.000000</td>\n",
       "      <td>1.000000</td>\n",
       "      <td>1.000000</td>\n",
       "      <td>1.000000</td>\n",
       "      <td>1.000000</td>\n",
       "      <td>1.000000</td>\n",
       "      <td>1.000000</td>\n",
       "      <td>1.000000</td>\n",
       "      <td>1676.000000</td>\n",
       "    </tr>\n",
       "    <tr>\n",
       "      <td>max</td>\n",
       "      <td>2.000000</td>\n",
       "      <td>1.000000</td>\n",
       "      <td>3.000000</td>\n",
       "      <td>118.750000</td>\n",
       "      <td>8684.800000</td>\n",
       "      <td>1.000000</td>\n",
       "      <td>1.000000</td>\n",
       "      <td>1.000000</td>\n",
       "      <td>1.000000</td>\n",
       "      <td>1.000000</td>\n",
       "      <td>1.000000</td>\n",
       "      <td>1.000000</td>\n",
       "      <td>1.000000</td>\n",
       "      <td>1.000000</td>\n",
       "      <td>1.000000</td>\n",
       "      <td>1.000000</td>\n",
       "      <td>1.000000</td>\n",
       "      <td>1.000000</td>\n",
       "      <td>1.000000</td>\n",
       "      <td>1.000000</td>\n",
       "      <td>1.000000</td>\n",
       "      <td>2191.000000</td>\n",
       "    </tr>\n",
       "  </tbody>\n",
       "</table>\n",
       "</div>"
      ],
      "text/plain": [
       "              Type  PaperlessBilling  PaymentMethod  MonthlyCharges  \\\n",
       "count  7032.000000  7032.000000       7032.000000    7032.000000      \n",
       "mean   0.688567     0.592719          1.573237       64.798208        \n",
       "std    0.832934     0.491363          1.067504       30.085974        \n",
       "min    0.000000     0.000000          0.000000       18.250000        \n",
       "25%    0.000000     0.000000          1.000000       35.587500        \n",
       "50%    0.000000     1.000000          2.000000       70.350000        \n",
       "75%    1.000000     1.000000          2.000000       89.862500        \n",
       "max    2.000000     1.000000          3.000000       118.750000       \n",
       "\n",
       "       TotalCharges       gender  SeniorCitizen      Partner   Dependents  \\\n",
       "count  7032.000000   7032.000000  7032.000000    7032.000000  7032.000000   \n",
       "mean   2283.300441   0.504693     0.162400       0.482509     0.298493      \n",
       "std    2266.771362   0.500014     0.368844       0.499729     0.457629      \n",
       "min    18.800000     0.000000     0.000000       0.000000     0.000000      \n",
       "25%    401.450000    0.000000     0.000000       0.000000     0.000000      \n",
       "50%    1397.475000   1.000000     0.000000       0.000000     0.000000      \n",
       "75%    3794.737500   1.000000     0.000000       1.000000     1.000000      \n",
       "max    8684.800000   1.000000     1.000000       1.000000     1.000000      \n",
       "\n",
       "            family  Internet_customer  InternetService  OnlineSecurity  \\\n",
       "count  7032.000000  7032.000000        7032.000000      7032.000000      \n",
       "mean   0.533561     0.783845           0.440273         0.286547         \n",
       "std    0.498908     0.411650           0.496455         0.452180         \n",
       "min    0.000000     0.000000           0.000000         0.000000         \n",
       "25%    0.000000     1.000000           0.000000         0.000000         \n",
       "50%    1.000000     1.000000           0.000000         0.000000         \n",
       "75%    1.000000     1.000000           1.000000         1.000000         \n",
       "max    1.000000     1.000000           1.000000         1.000000         \n",
       "\n",
       "       OnlineBackup  DeviceProtection  TechSupport  StreamingTV  \\\n",
       "count  7032.000000   7032.000000       7032.000000  7032.000000   \n",
       "mean   0.344852      0.343857          0.290102     0.384386      \n",
       "std    0.475354      0.475028          0.453842     0.486484      \n",
       "min    0.000000      0.000000          0.000000     0.000000      \n",
       "25%    0.000000      0.000000          0.000000     0.000000      \n",
       "50%    0.000000      0.000000          0.000000     0.000000      \n",
       "75%    1.000000      1.000000          1.000000     1.000000      \n",
       "max    1.000000      1.000000          1.000000     1.000000      \n",
       "\n",
       "       StreamingMovies  Phone_customer  MultipleLines       target  \\\n",
       "count  7032.000000      7032.000000     7032.000000    7032.000000   \n",
       "mean   0.388367         0.903299        0.421928       0.265785      \n",
       "std    0.487414         0.295571        0.493902       0.441782      \n",
       "min    0.000000         0.000000        0.000000       0.000000      \n",
       "25%    0.000000         1.000000        0.000000       0.000000      \n",
       "50%    0.000000         1.000000        0.000000       0.000000      \n",
       "75%    1.000000         1.000000        1.000000       1.000000      \n",
       "max    1.000000         1.000000        1.000000       1.000000      \n",
       "\n",
       "        difference  \n",
       "count  7032.000000  \n",
       "mean   987.538538   \n",
       "std    747.153663   \n",
       "min    30.000000    \n",
       "25%    275.000000   \n",
       "50%    883.000000   \n",
       "75%    1676.000000  \n",
       "max    2191.000000  "
      ]
     },
     "execution_count": 52,
     "metadata": {},
     "output_type": "execute_result"
    }
   ],
   "source": [
    "data.describe()"
   ]
  },
  {
   "cell_type": "markdown",
   "metadata": {},
   "source": [
    "Предоставленные данные выглядят адекватно"
   ]
  },
  {
   "cell_type": "markdown",
   "metadata": {},
   "source": [
    "***EDA***"
   ]
  },
  {
   "cell_type": "markdown",
   "metadata": {},
   "source": [
    "Проведем анализ данных"
   ]
  },
  {
   "cell_type": "code",
   "execution_count": 53,
   "metadata": {
    "scrolled": true
   },
   "outputs": [
    {
     "data": {
      "text/plain": [
       "count    5163.000000\n",
       "mean     61.307408  \n",
       "std      31.094557  \n",
       "min      18.250000  \n",
       "25%      25.100000  \n",
       "50%      64.450000  \n",
       "75%      88.475000  \n",
       "max      118.750000 \n",
       "Name: MonthlyCharges, dtype: float64"
      ]
     },
     "execution_count": 53,
     "metadata": {},
     "output_type": "execute_result"
    }
   ],
   "source": [
    "data[data.target == 0]['MonthlyCharges'].describe()"
   ]
  },
  {
   "cell_type": "code",
   "execution_count": 54,
   "metadata": {
    "scrolled": false
   },
   "outputs": [
    {
     "data": {
      "text/plain": [
       "count    1869.000000\n",
       "mean     74.441332  \n",
       "std      24.666053  \n",
       "min      18.850000  \n",
       "25%      56.150000  \n",
       "50%      79.650000  \n",
       "75%      94.200000  \n",
       "max      118.350000 \n",
       "Name: MonthlyCharges, dtype: float64"
      ]
     },
     "execution_count": 54,
     "metadata": {},
     "output_type": "execute_result"
    }
   ],
   "source": [
    "data[data.target == 1]['MonthlyCharges'].describe()"
   ]
  },
  {
   "cell_type": "markdown",
   "metadata": {},
   "source": [
    "В среднем те клиенты, которые ушли платили больше на 13 денежных единиц."
   ]
  },
  {
   "cell_type": "markdown",
   "metadata": {},
   "source": [
    "<font color='blue'><u><b>КОММЕНТАРИЙ РЕВЬЮЕРА</b></u></font><br />\n",
    "<font color='green'>\n",
    "на 13 денежных единиц... :)"
   ]
  },
  {
   "cell_type": "code",
   "execution_count": 55,
   "metadata": {
    "scrolled": false
   },
   "outputs": [
    {
     "data": {
      "image/png": "[encoded data removed]",
      "text/plain": [
       "<Figure size 216x216 with 1 Axes>"
      ]
     },
     "metadata": {
      "needs_background": "light"
     },
     "output_type": "display_data"
    },
    {
     "data": {
      "image/png": "[encoded data removed]",
      "text/plain": [
       "<Figure size 216x216 with 1 Axes>"
      ]
     },
     "metadata": {
      "needs_background": "light"
     },
     "output_type": "display_data"
    }
   ],
   "source": [
    "fig, ax = plt.subplots(figsize = (3,3))\n",
    "sns.countplot(x = 'Internet_customer', data = data[data['target']==1]).set_title('Ушeдшие клиенты')\n",
    "fig, ax = plt.subplots(figsize = (3,3))\n",
    "sns.countplot(x = 'Internet_customer', data = data[data['target']==0]).set_title('Активные клиенты');"
   ]
  },
  {
   "cell_type": "code",
   "execution_count": 56,
   "metadata": {
    "scrolled": false
   },
   "outputs": [
    {
     "data": {
      "image/png": "[encoded data removed]",
      "text/plain": [
       "<Figure size 216x216 with 1 Axes>"
      ]
     },
     "metadata": {
      "needs_background": "light"
     },
     "output_type": "display_data"
    },
    {
     "data": {
      "image/png": "[encoded data removed]",
      "text/plain": [
       "<Figure size 216x216 with 1 Axes>"
      ]
     },
     "metadata": {
      "needs_background": "light"
     },
     "output_type": "display_data"
    }
   ],
   "source": [
    "fig, ax = plt.subplots(figsize = (3,3))\n",
    "sns.countplot(x = 'Phone_customer', data = data[data['target']==1]).set_title('Ушeдшие клиенты')\n",
    "fig, ax = plt.subplots(figsize = (3,3))\n",
    "sns.countplot(x = 'Phone_customer', data = data[data['target']==0]).set_title('Активные клиенты');"
   ]
  },
  {
   "cell_type": "markdown",
   "metadata": {},
   "source": [
    "Портрет типичного клиента который ушел: практически все пользовались интернетом. Можно предположить, что имеено неудовлетворенность при использовании интернета послужила причиной отвала клиентов. Одной из причин последнему может быть высокая стоимость.  Телефонная связь скорее всего не являлась причиной ухода."
   ]
  },
  {
   "cell_type": "markdown",
   "metadata": {},
   "source": [
    "Вопросы тим лиду:\n",
    "- Как проверить имеет ли смысл добавлять фичу difference?\n",
    "- Как обосновать выбор метрик оценки для модели?"
   ]
  },
  {
   "cell_type": "markdown",
   "metadata": {},
   "source": [
    "Дальнеийший план:\n",
    "- Разделить выборки на тест треин\n",
    "- Избавиться от дисбаланса\n",
    "- Нормализовать тренировочные данные\n",
    "- Обучить большое колличесвто моделей на стандартных гиперпараметрах, выбрать ту что справляется лучше, по выбранным метрикам\n",
    "- Насторить гиперпарамтры лучшей модели гридсерчем с кросс валидацией, получить финальный результат\n",
    "\n",
    "\n"
   ]
  },
  {
   "cell_type": "markdown",
   "metadata": {},
   "source": [
    "***MODELLING***"
   ]
  },
  {
   "cell_type": "markdown",
   "metadata": {},
   "source": [
    "Попробуем оценить наличие внутренней корреляции между фичами, если последняя будет присутсвовать, то можно избавиться от одного из"
   ]
  },
  {
   "cell_type": "code",
   "execution_count": 57,
   "metadata": {
    "scrolled": false
   },
   "outputs": [
    {
     "data": {
      "text/plain": [
       "<matplotlib.axes._subplots.AxesSubplot at 0x7f7ddc09e710>"
      ]
     },
     "execution_count": 57,
     "metadata": {},
     "output_type": "execute_result"
    },
    {
     "data": {
      "image/png": "[encoded data removed]",
      "text/plain": [
       "<Figure size 1440x1440 with 2 Axes>"
      ]
     },
     "metadata": {
      "needs_background": "light"
     },
     "output_type": "display_data"
    }
   ],
   "source": [
    "pearsoncorr = data.corr(method='pearson')\n",
    "fig, ax = plt.subplots(figsize = (20,20))\n",
    "sns.heatmap(pearsoncorr, \n",
    "            xticklabels=pearsoncorr.columns,\n",
    "            yticklabels=pearsoncorr.columns,\n",
    "            cmap='RdBu_r',\n",
    "            annot=True,\n",
    "            linewidth=0.5)"
   ]
  },
  {
   "cell_type": "code",
   "execution_count": 58,
   "metadata": {},
   "outputs": [],
   "source": [
    "data = data.drop(['MonthlyCharges'], axis =1)"
   ]
  },
  {
   "cell_type": "markdown",
   "metadata": {},
   "source": [
    "*Splitting*"
   ]
  },
  {
   "cell_type": "code",
   "execution_count": 59,
   "metadata": {},
   "outputs": [],
   "source": [
    "train, test = train_test_split(data, shuffle=False, test_size = 0.25)"
   ]
  },
  {
   "cell_type": "code",
   "execution_count": 60,
   "metadata": {},
   "outputs": [],
   "source": [
    "train_features = train.drop('target', axis = 1)\n",
    "train_target = train['target']\n",
    "\n",
    "test_features = test.drop('target', axis = 1)\n",
    "test_target = test['target']"
   ]
  },
  {
   "cell_type": "markdown",
   "metadata": {},
   "source": [
    "*Оцениваем дисбаланс классов. Класс 1 присутствует в датасете в неполном мере, следовательно нужно учесть баланс классов.*"
   ]
  },
  {
   "cell_type": "code",
   "execution_count": 61,
   "metadata": {
    "scrolled": false
   },
   "outputs": [
    {
     "data": {
      "image/png": "[encoded data removed]",
      "text/plain": [
       "<Figure size 216x216 with 1 Axes>"
      ]
     },
     "metadata": {
      "needs_background": "light"
     },
     "output_type": "display_data"
    }
   ],
   "source": [
    "fig, ax = plt.subplots(figsize = (3,3))\n",
    "sns.countplot(x = 'target', data = data);"
   ]
  },
  {
   "cell_type": "markdown",
   "metadata": {},
   "source": [
    "Балансируем данные 2 способовами. Сначала сделаем апсамплинг целевеого признака и посмотрим как участя модели, затем тоже самое сделаем черем даунсамплинг."
   ]
  },
  {
   "cell_type": "markdown",
   "metadata": {},
   "source": [
    "*Upsampling Training Data*"
   ]
  },
  {
   "cell_type": "code",
   "execution_count": 62,
   "metadata": {},
   "outputs": [],
   "source": [
    "def upsampling(train_features, train_target):\n",
    "    train_features_0 = train_features[train_target == 0]\n",
    "    train_features_1 = train_features[train_target ==1]\n",
    "    target_0 = train_target[train_target == 0]\n",
    "    target_1 = train_target[train_target ==1]\n",
    "    \n",
    "    train_features_up = pd.concat([train_features_0] + int(round(len(train_features_0)/len(train_features_1))) *\n",
    "                                  [train_features_1])\n",
    "    train_target_up = pd.concat([target_0] + int(round(len(train_features_0)/len(train_features_1))) *\n",
    "                                  [target_1])\n",
    "    train_features_up, train_target_up = shuffle(train_features_up, train_target_up,random_state = 12345)\n",
    "    return train_features_up, train_target_up"
   ]
  },
  {
   "cell_type": "code",
   "execution_count": 63,
   "metadata": {
    "scrolled": true
   },
   "outputs": [],
   "source": [
    "train_features_up, train_target_up = upsampling(train_features, train_target)"
   ]
  },
  {
   "cell_type": "markdown",
   "metadata": {},
   "source": [
    "<font color='blue'><u><b>КОММЕНТАРИЙ РЕВЬЮЕРА</b></u></font><br />\n",
    "<font color='green'>\n",
    "балансируем на обучающей выборке - ОК."
   ]
  },
  {
   "cell_type": "code",
   "execution_count": 64,
   "metadata": {},
   "outputs": [
    {
     "data": {
      "text/plain": [
       "((8040, 20), (8040,))"
      ]
     },
     "execution_count": 64,
     "metadata": {},
     "output_type": "execute_result"
    }
   ],
   "source": [
    "train_features_up.shape, train_target_up.shape"
   ]
  },
  {
   "cell_type": "code",
   "execution_count": 65,
   "metadata": {
    "scrolled": true
   },
   "outputs": [
    {
     "data": {
      "image/png": "[encoded data removed]",
      "text/plain": [
       "<Figure size 216x216 with 1 Axes>"
      ]
     },
     "metadata": {
      "needs_background": "light"
     },
     "output_type": "display_data"
    }
   ],
   "source": [
    "fig, ax = plt.subplots(figsize = (3,3))\n",
    "sns.countplot(train_target_up);"
   ]
  },
  {
   "cell_type": "markdown",
   "metadata": {},
   "source": [
    "*Downsampling*"
   ]
  },
  {
   "cell_type": "code",
   "execution_count": 66,
   "metadata": {},
   "outputs": [
    {
     "data": {
      "text/plain": [
       "0.3554356206630686"
      ]
     },
     "execution_count": 66,
     "metadata": {},
     "output_type": "execute_result"
    }
   ],
   "source": [
    "len(train_features[train_target == 1])/len(train_features[train_target == 0])"
   ]
  },
  {
   "cell_type": "code",
   "execution_count": 67,
   "metadata": {},
   "outputs": [],
   "source": [
    "def downsampling(train_features, train_target):\n",
    "    train_features_0 = train_features[train_target == 0]\n",
    "    train_features_1 = train_features[train_target ==1]\n",
    "    target_0 = train_target[train_target == 0]\n",
    "    target_1 = train_target[train_target ==1]\n",
    "    \n",
    "    train_features_dw = pd.concat(\n",
    "        [train_features_0.sample(frac=0.35, random_state=12345)] + [train_features_1])\n",
    "    train_target_dw = pd.concat(\n",
    "        [target_0.sample(frac=0.35, random_state=12345)] + [target_1])\n",
    "    \n",
    "    train_features_dw, train_target_dw = shuffle(train_features_dw, train_target_dw,random_state = 12345)\n",
    "    return train_features_dw, train_target_dw"
   ]
  },
  {
   "cell_type": "code",
   "execution_count": 68,
   "metadata": {
    "scrolled": false
   },
   "outputs": [],
   "source": [
    "train_features_dw, train_target_dw = downsampling(train_features, train_target)"
   ]
  },
  {
   "cell_type": "code",
   "execution_count": 69,
   "metadata": {
    "scrolled": false
   },
   "outputs": [
    {
     "data": {
      "text/plain": [
       "((2745, 20), (2745,))"
      ]
     },
     "execution_count": 69,
     "metadata": {},
     "output_type": "execute_result"
    }
   ],
   "source": [
    "train_features_dw.shape, train_target_dw.shape"
   ]
  },
  {
   "cell_type": "code",
   "execution_count": 70,
   "metadata": {
    "scrolled": true
   },
   "outputs": [
    {
     "data": {
      "image/png": "[encoded data removed]",
      "text/plain": [
       "<Figure size 216x216 with 1 Axes>"
      ]
     },
     "metadata": {
      "needs_background": "light"
     },
     "output_type": "display_data"
    }
   ],
   "source": [
    "fig, ax = plt.subplots(figsize = (3,3))\n",
    "sns.countplot(train_target_dw);"
   ]
  },
  {
   "cell_type": "markdown",
   "metadata": {},
   "source": [
    "Переда тем как будем обучать модели, проведем норализацию или стандартизацию данных. "
   ]
  },
  {
   "cell_type": "markdown",
   "metadata": {},
   "source": [
    "*Cheking histogramms*"
   ]
  },
  {
   "cell_type": "code",
   "execution_count": 71,
   "metadata": {
    "scrolled": false
   },
   "outputs": [],
   "source": [
    "#sns.distplot(train_features_up['MonthlyCharges'])"
   ]
  },
  {
   "cell_type": "code",
   "execution_count": 72,
   "metadata": {
    "scrolled": false
   },
   "outputs": [
    {
     "data": {
      "text/plain": [
       "<matplotlib.axes._subplots.AxesSubplot at 0x7f7ddbf95ad0>"
      ]
     },
     "execution_count": 72,
     "metadata": {},
     "output_type": "execute_result"
    },
    {
     "data": {
      "image/png": "[encoded data removed]",
      "text/plain": [
       "<Figure size 432x288 with 1 Axes>"
      ]
     },
     "metadata": {
      "needs_background": "light"
     },
     "output_type": "display_data"
    }
   ],
   "source": [
    "sns.distplot(train_features_up['TotalCharges'])"
   ]
  },
  {
   "cell_type": "markdown",
   "metadata": {},
   "source": [
    "Изначально так как распределения признаков выглядят как негауссовые, данные были нормализованы, но при этом модели обучались, хуже чем при стандартизированных данных. Поэтому делаем стандартизацию."
   ]
  },
  {
   "cell_type": "markdown",
   "metadata": {},
   "source": [
    "*Normalizing*"
   ]
  },
  {
   "cell_type": "markdown",
   "metadata": {},
   "source": [
    "normalizer = Normalizer()\n",
    "train_features_up[['MonthlyCharges', 'TotalCharges','difference']] = normalizer.fit_transform(\n",
    "    train_features_up[['MonthlyCharges', 'TotalCharges','difference']])"
   ]
  },
  {
   "cell_type": "markdown",
   "metadata": {},
   "source": [
    "test_features[['MonthlyCharges', 'TotalCharges','difference']] = normalizer.transform(\n",
    "    test_features[['MonthlyCharges', 'TotalCharges','difference']])"
   ]
  },
  {
   "cell_type": "markdown",
   "metadata": {},
   "source": [
    "train_features_dw[['MonthlyCharges', 'TotalCharges','difference']] = normalizer.fit_transform(\n",
    "    train_features_dw[['MonthlyCharges', 'TotalCharges','difference']])"
   ]
  },
  {
   "cell_type": "markdown",
   "metadata": {},
   "source": [
    "*Standartizing*"
   ]
  },
  {
   "cell_type": "code",
   "execution_count": 74,
   "metadata": {},
   "outputs": [],
   "source": [
    "test_features_up = test_features.copy()\n",
    "test_features_dw = test_features.copy()"
   ]
  },
  {
   "cell_type": "code",
   "execution_count": 75,
   "metadata": {},
   "outputs": [],
   "source": [
    "scaler = StandardScaler()\n",
    "train_features_up[[ 'TotalCharges','difference']] = scaler.fit_transform(\n",
    "    train_features_up[['TotalCharges','difference']])"
   ]
  },
  {
   "cell_type": "code",
   "execution_count": 76,
   "metadata": {},
   "outputs": [],
   "source": [
    "test_features_up[['TotalCharges','difference']] = scaler.transform(\n",
    "    test_features[[ 'TotalCharges','difference']])"
   ]
  },
  {
   "cell_type": "code",
   "execution_count": 77,
   "metadata": {},
   "outputs": [],
   "source": [
    "train_features_dw[[ 'TotalCharges','difference']] = scaler.fit_transform(\n",
    "    train_features_dw[['TotalCharges','difference']])"
   ]
  },
  {
   "cell_type": "code",
   "execution_count": 78,
   "metadata": {},
   "outputs": [],
   "source": [
    "test_features_dw[['TotalCharges','difference']] = scaler.transform(\n",
    "    test_features[['TotalCharges','difference']])"
   ]
  },
  {
   "cell_type": "markdown",
   "metadata": {},
   "source": [
    "*Choosing best model*"
   ]
  },
  {
   "cell_type": "code",
   "execution_count": 79,
   "metadata": {},
   "outputs": [],
   "source": [
    "def best_model(model, train_features, train_target, test_features, test_target):\n",
    "    result = {}\n",
    "    \n",
    "    start = time()\n",
    "    model.fit(train_features, train_target)\n",
    "\n",
    "    \n",
    "    answers = model.predict(test_features)\n",
    "    answers_proba = model.predict_proba(test_features)\n",
    "    answers_proba_1 = answers_proba[:,1]\n",
    "    end = time()\n",
    "    \n",
    "    result['accuracy_score'] = accuracy_score(test_target,answers)\n",
    "    result['recall_score'] = recall_score(test_target,answers)\n",
    "    result['precision_score'] = precision_score(test_target,answers)\n",
    "    result['f1_score'] = f1_score(test_target,answers)\n",
    "    result['roc_auc_score'] = roc_auc_score(test_target, answers_proba_1)\n",
    "    result['time'] = end - start\n",
    "\n",
    "    print('name of model {}'.format(model))\n",
    "    return result"
   ]
  },
  {
   "cell_type": "code",
   "execution_count": 80,
   "metadata": {},
   "outputs": [],
   "source": [
    "test_target_mean = pd.Series(0, index=range(len(test_target)))\n",
    "def mean_model(test_mean, test_target):\n",
    "    result = {}\n",
    "    \n",
    "    result['accuracy_score'] = accuracy_score(test_target,test_mean)\n",
    "    result['recall_score'] = recall_score(test_target,test_mean)\n",
    "    result['precision_score'] = precision_score(test_target,test_mean)\n",
    "    result['f1_score'] = f1_score(test_target,test_mean)\n",
    "    result['roc_auc_score'] = roc_auc_score(test_target, test_mean)\n",
    "\n",
    "    print('test_target_mean')\n",
    "    return result"
   ]
  },
  {
   "cell_type": "markdown",
   "metadata": {},
   "source": [
    "Обучаем все модели, которые использовали в течении курса. Начнем с доунсамплиного датасета"
   ]
  },
  {
   "cell_type": "markdown",
   "metadata": {},
   "source": [
    "<font color='blue'><u><b>КОММЕНТАРИЙ РЕВЬЮЕРА</b></u></font><br />\n",
    "<font color='green'>\n",
    "все?? мне страшно )"
   ]
  },
  {
   "cell_type": "code",
   "execution_count": 81,
   "metadata": {
    "scrolled": true
   },
   "outputs": [
    {
     "name": "stdout",
     "output_type": "stream",
     "text": [
      "name of model LogisticRegression(C=1.0, class_weight=None, dual=False, fit_intercept=True,\n",
      "                   intercept_scaling=1, l1_ratio=None, max_iter=100,\n",
      "                   multi_class='warn', n_jobs=None, penalty='l2',\n",
      "                   random_state=12345, solver='lbfgs', tol=0.0001, verbose=0,\n",
      "                   warm_start=False)\n",
      "name of model DecisionTreeClassifier(class_weight=None, criterion='gini', max_depth=None,\n",
      "                       max_features=None, max_leaf_nodes=None,\n",
      "                       min_impurity_decrease=0.0, min_impurity_split=None,\n",
      "                       min_samples_leaf=1, min_samples_split=2,\n",
      "                       min_weight_fraction_leaf=0.0, presort=False,\n",
      "                       random_state=12345, splitter='best')\n",
      "name of model RandomForestClassifier(bootstrap=True, class_weight=None, criterion='gini',\n",
      "                       max_depth=None, max_features='auto', max_leaf_nodes=None,\n",
      "                       min_impurity_decrease=0.0, min_impurity_split=None,\n",
      "                       min_samples_leaf=1, min_samples_split=2,\n",
      "                       min_weight_fraction_leaf=0.0, n_estimators=100,\n",
      "                       n_jobs=None, oob_score=False, random_state=12345,\n",
      "                       verbose=0, warm_start=False)\n",
      "name of model <catboost.core.CatBoostClassifier object at 0x7f7ddbee3b50>\n",
      "name of model XGBClassifier(base_score=0.5, booster='gbtree', colsample_bylevel=1,\n",
      "              colsample_bynode=1, colsample_bytree=1, gamma=0,\n",
      "              learning_rate=0.1, max_delta_step=0, max_depth=3,\n",
      "              min_child_weight=1, missing=None, n_estimators=100, n_jobs=1,\n",
      "              nthread=None, objective='binary:logistic', random_state=12345,\n",
      "              reg_alpha=0, reg_lambda=1, scale_pos_weight=1, seed=None,\n",
      "              silent=None, subsample=1, verbosity=1)\n",
      "name of model LGBMClassifier(boosting_type='gbdt', class_weight=None, colsample_bytree=1.0,\n",
      "               importance_type='split', learning_rate=0.1, max_depth=-1,\n",
      "               min_child_samples=20, min_child_weight=0.001, min_split_gain=0.0,\n",
      "               n_estimators=100, n_jobs=-1, num_leaves=31, objective=None,\n",
      "               random_state=None, reg_alpha=0.0, reg_lambda=0.0, silent=True,\n",
      "               subsample=1.0, subsample_for_bin=200000, subsample_freq=0)\n",
      "test_target_mean\n"
     ]
    },
    {
     "name": "stderr",
     "output_type": "stream",
     "text": [
      "/opt/conda/lib/python3.7/site-packages/sklearn/metrics/classification.py:1437: UndefinedMetricWarning: Precision is ill-defined and being set to 0.0 due to no predicted samples.\n",
      "  'precision', 'predicted', average, warn_for)\n",
      "/opt/conda/lib/python3.7/site-packages/sklearn/metrics/classification.py:1437: UndefinedMetricWarning: F-score is ill-defined and being set to 0.0 due to no predicted samples.\n",
      "  'precision', 'predicted', average, warn_for)\n"
     ]
    }
   ],
   "source": [
    "LR = LogisticRegression(random_state = 12345, solver = 'lbfgs')\n",
    "result_LR = best_model(LR, train_features_dw, train_target_dw, test_features_dw, test_target)\n",
    "DTC = DecisionTreeClassifier(random_state = 12345)\n",
    "result_DTC = best_model(DTC, train_features_dw, train_target_dw, test_features_dw, test_target)\n",
    "RFC = RandomForestClassifier(random_state = 12345, n_estimators = 100)\n",
    "result_RFC = best_model(RFC, train_features_dw, train_target_dw, test_features_dw, test_target)\n",
    "CBC = CatBoostClassifier(random_state = 12345, verbose=0)\n",
    "result_CBC = best_model(CBC, train_features_dw, train_target_dw, test_features_dw, test_target)\n",
    "XGBC = XGBClassifier(random_state = 12345)\n",
    "result_XGBC = best_model (XGBC, train_features_dw, train_target_dw, test_features_dw, test_target)\n",
    "lgbC = LGBMClassifier()\n",
    "result_lgbC = best_model(lgbC, train_features_dw, train_target_dw, test_features_dw, test_target)\n",
    "mean_target = mean_model(test_target_mean, test_target)"
   ]
  },
  {
   "cell_type": "code",
   "execution_count": 82,
   "metadata": {},
   "outputs": [],
   "source": [
    "scores_dw = pd.DataFrame({'name_model':[\"LogisticRegression\",\"DecisionTreeClassifier\",\"RandomForestClassifier\",\n",
    "                                      \"CatBoostClassifier\", \"XGBClassifier\",\"LGBMClassifier\",\"Test_filled_with_mean\"] ,\\\n",
    "                    'accuracy_score' : [result_LR[\"accuracy_score\"], result_DTC[\"accuracy_score\"], result_RFC[\"accuracy_score\"],\n",
    "                                         result_CBC[\"accuracy_score\"],result_XGBC[\"accuracy_score\"], result_lgbC[\"accuracy_score\"],mean_target[\"accuracy_score\"]],\\\n",
    "                          'recall_score' : [result_LR[\"recall_score\"], result_DTC[\"recall_score\"], result_RFC[\"recall_score\"],\n",
    "                                         result_CBC[\"recall_score\"], result_XGBC[\"recall_score\"], result_lgbC[\"recall_score\"], mean_target[\"recall_score\"]],\\\n",
    "                          'precision_score' : [result_LR[\"precision_score\"], result_DTC[\"precision_score\"], result_RFC[\"precision_score\"],\n",
    "                                         result_CBC[\"precision_score\"],result_XGBC[\"precision_score\"], result_lgbC[\"precision_score\"],mean_target[\"precision_score\"]],\\\n",
    "                    'f1_score' : [result_LR[\"f1_score\"], result_DTC[\"f1_score\"], result_RFC[\"f1_score\"],\n",
    "                                         result_CBC[\"f1_score\"],result_XGBC[\"f1_score\"], result_lgbC[\"f1_score\"],mean_target[\"f1_score\"]],\\\n",
    "                    'roc_auc_score' : [result_LR[\"roc_auc_score\"], result_DTC[\"roc_auc_score\"], result_RFC[\"roc_auc_score\"],\n",
    "                                         result_CBC[\"roc_auc_score\"],result_XGBC[\"roc_auc_score\"], result_lgbC[\"roc_auc_score\"],mean_target['roc_auc_score']],\\\n",
    "                    'execution_time' : [result_LR[\"time\"], result_DTC[\"time\"], result_RFC[\"time\"],\n",
    "                                         result_CBC[\"time\"],result_XGBC[\"time\"], result_lgbC[\"time\"],0]\n",
    "                       })               "
   ]
  },
  {
   "cell_type": "code",
   "execution_count": 83,
   "metadata": {
    "scrolled": false
   },
   "outputs": [
    {
     "data": {
      "text/html": [
       "<div>\n",
       "<style scoped>\n",
       "    .dataframe tbody tr th:only-of-type {\n",
       "        vertical-align: middle;\n",
       "    }\n",
       "\n",
       "    .dataframe tbody tr th {\n",
       "        vertical-align: top;\n",
       "    }\n",
       "\n",
       "    .dataframe thead th {\n",
       "        text-align: right;\n",
       "    }\n",
       "</style>\n",
       "<table border=\"1\" class=\"dataframe\">\n",
       "  <thead>\n",
       "    <tr style=\"text-align: right;\">\n",
       "      <th></th>\n",
       "      <th>name_model</th>\n",
       "      <th>accuracy_score</th>\n",
       "      <th>recall_score</th>\n",
       "      <th>precision_score</th>\n",
       "      <th>f1_score</th>\n",
       "      <th>roc_auc_score</th>\n",
       "      <th>execution_time</th>\n",
       "    </tr>\n",
       "  </thead>\n",
       "  <tbody>\n",
       "    <tr>\n",
       "      <td>3</td>\n",
       "      <td>CatBoostClassifier</td>\n",
       "      <td>0.805461</td>\n",
       "      <td>0.802469</td>\n",
       "      <td>0.613208</td>\n",
       "      <td>0.695187</td>\n",
       "      <td>0.892606</td>\n",
       "      <td>21.694495</td>\n",
       "    </tr>\n",
       "    <tr>\n",
       "      <td>5</td>\n",
       "      <td>LGBMClassifier</td>\n",
       "      <td>0.787258</td>\n",
       "      <td>0.808642</td>\n",
       "      <td>0.583086</td>\n",
       "      <td>0.677586</td>\n",
       "      <td>0.886606</td>\n",
       "      <td>0.205502</td>\n",
       "    </tr>\n",
       "    <tr>\n",
       "      <td>4</td>\n",
       "      <td>XGBClassifier</td>\n",
       "      <td>0.786689</td>\n",
       "      <td>0.794239</td>\n",
       "      <td>0.583964</td>\n",
       "      <td>0.673060</td>\n",
       "      <td>0.876445</td>\n",
       "      <td>0.264143</td>\n",
       "    </tr>\n",
       "    <tr>\n",
       "      <td>2</td>\n",
       "      <td>RandomForestClassifier</td>\n",
       "      <td>0.759386</td>\n",
       "      <td>0.744856</td>\n",
       "      <td>0.547655</td>\n",
       "      <td>0.631212</td>\n",
       "      <td>0.842234</td>\n",
       "      <td>0.520778</td>\n",
       "    </tr>\n",
       "    <tr>\n",
       "      <td>0</td>\n",
       "      <td>LogisticRegression</td>\n",
       "      <td>0.753697</td>\n",
       "      <td>0.763374</td>\n",
       "      <td>0.538462</td>\n",
       "      <td>0.631489</td>\n",
       "      <td>0.840429</td>\n",
       "      <td>0.360020</td>\n",
       "    </tr>\n",
       "    <tr>\n",
       "      <td>1</td>\n",
       "      <td>DecisionTreeClassifier</td>\n",
       "      <td>0.727531</td>\n",
       "      <td>0.713992</td>\n",
       "      <td>0.505095</td>\n",
       "      <td>0.591645</td>\n",
       "      <td>0.723348</td>\n",
       "      <td>0.016124</td>\n",
       "    </tr>\n",
       "    <tr>\n",
       "      <td>6</td>\n",
       "      <td>Test_filled_with_mean</td>\n",
       "      <td>0.723549</td>\n",
       "      <td>0.000000</td>\n",
       "      <td>0.000000</td>\n",
       "      <td>0.000000</td>\n",
       "      <td>0.500000</td>\n",
       "      <td>0.000000</td>\n",
       "    </tr>\n",
       "  </tbody>\n",
       "</table>\n",
       "</div>"
      ],
      "text/plain": [
       "               name_model  accuracy_score  recall_score  precision_score  \\\n",
       "3  CatBoostClassifier      0.805461        0.802469      0.613208          \n",
       "5  LGBMClassifier          0.787258        0.808642      0.583086          \n",
       "4  XGBClassifier           0.786689        0.794239      0.583964          \n",
       "2  RandomForestClassifier  0.759386        0.744856      0.547655          \n",
       "0  LogisticRegression      0.753697        0.763374      0.538462          \n",
       "1  DecisionTreeClassifier  0.727531        0.713992      0.505095          \n",
       "6  Test_filled_with_mean   0.723549        0.000000      0.000000          \n",
       "\n",
       "   f1_score  roc_auc_score  execution_time  \n",
       "3  0.695187  0.892606       21.694495       \n",
       "5  0.677586  0.886606       0.205502        \n",
       "4  0.673060  0.876445       0.264143        \n",
       "2  0.631212  0.842234       0.520778        \n",
       "0  0.631489  0.840429       0.360020        \n",
       "1  0.591645  0.723348       0.016124        \n",
       "6  0.000000  0.500000       0.000000        "
      ]
     },
     "execution_count": 83,
     "metadata": {},
     "output_type": "execute_result"
    }
   ],
   "source": [
    "scores_dw.sort_values(by = 'roc_auc_score', ascending = False)"
   ]
  },
  {
   "cell_type": "markdown",
   "metadata": {},
   "source": [
    "На даунсамплином трейне лучший результат у CatBoostClassifier = 0.892606\t"
   ]
  },
  {
   "cell_type": "code",
   "execution_count": 84,
   "metadata": {
    "scrolled": true
   },
   "outputs": [
    {
     "name": "stdout",
     "output_type": "stream",
     "text": [
      "name of model LogisticRegression(C=1.0, class_weight=None, dual=False, fit_intercept=True,\n",
      "                   intercept_scaling=1, l1_ratio=None, max_iter=100,\n",
      "                   multi_class='warn', n_jobs=None, penalty='l2',\n",
      "                   random_state=12345, solver='lbfgs', tol=0.0001, verbose=0,\n",
      "                   warm_start=False)\n",
      "name of model DecisionTreeClassifier(class_weight=None, criterion='gini', max_depth=None,\n",
      "                       max_features=None, max_leaf_nodes=None,\n",
      "                       min_impurity_decrease=0.0, min_impurity_split=None,\n",
      "                       min_samples_leaf=1, min_samples_split=2,\n",
      "                       min_weight_fraction_leaf=0.0, presort=False,\n",
      "                       random_state=12345, splitter='best')\n",
      "name of model RandomForestClassifier(bootstrap=True, class_weight=None, criterion='gini',\n",
      "                       max_depth=None, max_features='auto', max_leaf_nodes=None,\n",
      "                       min_impurity_decrease=0.0, min_impurity_split=None,\n",
      "                       min_samples_leaf=1, min_samples_split=2,\n",
      "                       min_weight_fraction_leaf=0.0, n_estimators=100,\n",
      "                       n_jobs=None, oob_score=False, random_state=12345,\n",
      "                       verbose=0, warm_start=False)\n",
      "name of model <catboost.core.CatBoostClassifier object at 0x7f7ddbef5ed0>\n",
      "name of model XGBClassifier(base_score=0.5, booster='gbtree', colsample_bylevel=1,\n",
      "              colsample_bynode=1, colsample_bytree=1, gamma=0,\n",
      "              learning_rate=0.1, max_delta_step=0, max_depth=3,\n",
      "              min_child_weight=1, missing=None, n_estimators=100, n_jobs=1,\n",
      "              nthread=None, objective='binary:logistic', random_state=12345,\n",
      "              reg_alpha=0, reg_lambda=1, scale_pos_weight=1, seed=None,\n",
      "              silent=None, subsample=1, verbosity=1)\n",
      "name of model LGBMClassifier(boosting_type='gbdt', class_weight=None, colsample_bytree=1.0,\n",
      "               importance_type='split', learning_rate=0.1, max_depth=-1,\n",
      "               min_child_samples=20, min_child_weight=0.001, min_split_gain=0.0,\n",
      "               n_estimators=100, n_jobs=-1, num_leaves=31, objective=None,\n",
      "               random_state=None, reg_alpha=0.0, reg_lambda=0.0, silent=True,\n",
      "               subsample=1.0, subsample_for_bin=200000, subsample_freq=0)\n"
     ]
    }
   ],
   "source": [
    "LR = LogisticRegression(random_state = 12345, solver = 'lbfgs')\n",
    "result_LR = best_model(LR, train_features_up, train_target_up, test_features_up, test_target)\n",
    "DTC = DecisionTreeClassifier(random_state = 12345)\n",
    "result_DTC = best_model(DTC, train_features_up, train_target_up, test_features_up, test_target)\n",
    "RFC = RandomForestClassifier(random_state = 12345, n_estimators = 100)\n",
    "result_RFC = best_model(RFC, train_features_up, train_target_up, test_features_up, test_target)\n",
    "CBC = CatBoostClassifier(random_state = 12345, verbose=0)\n",
    "result_CBC = best_model(CBC, train_features_up, train_target_up, test_features_up, test_target)\n",
    "CBC.get_all_params()\n",
    "XGBC = XGBClassifier(random_state = 12345)\n",
    "result_XGBC = best_model (XGBC, train_features_up, train_target_up, test_features_up, test_target)\n",
    "lgbC = LGBMClassifier()\n",
    "result_lgbC = best_model(lgbC, train_features_up, train_target_up, test_features_up, test_target)"
   ]
  },
  {
   "cell_type": "code",
   "execution_count": 85,
   "metadata": {},
   "outputs": [],
   "source": [
    "scores_up = pd.DataFrame({'name_model':[\"LogisticRegression\",\"DecisionTreeClassifier\",\"RandomForestClassifier\",\n",
    "                                      \"CatBoostClassifier\", \"XGBClassifier\",\"LGBMClassifier\",\"Test_filled_with_mean\"] ,\\\n",
    "                    'accuracy_score' : [result_LR[\"accuracy_score\"], result_DTC[\"accuracy_score\"], result_RFC[\"accuracy_score\"],\n",
    "                                         result_CBC[\"accuracy_score\"],result_XGBC[\"accuracy_score\"], result_lgbC[\"accuracy_score\"],mean_target[\"accuracy_score\"]],\\\n",
    "                          'recall_score' : [result_LR[\"recall_score\"], result_DTC[\"recall_score\"], result_RFC[\"recall_score\"],\n",
    "                                         result_CBC[\"recall_score\"], result_XGBC[\"recall_score\"], result_lgbC[\"recall_score\"], mean_target[\"recall_score\"]],\\\n",
    "                          'precision_score' : [result_LR[\"precision_score\"], result_DTC[\"precision_score\"], result_RFC[\"precision_score\"],\n",
    "                                         result_CBC[\"precision_score\"],result_XGBC[\"precision_score\"], result_lgbC[\"precision_score\"],mean_target[\"precision_score\"]],\\\n",
    "                    'f1_score' : [result_LR[\"f1_score\"], result_DTC[\"f1_score\"], result_RFC[\"f1_score\"],\n",
    "                                         result_CBC[\"f1_score\"],result_XGBC[\"f1_score\"], result_lgbC[\"f1_score\"],mean_target[\"f1_score\"]],\\\n",
    "                    'roc_auc_score' : [result_LR[\"roc_auc_score\"], result_DTC[\"roc_auc_score\"], result_RFC[\"roc_auc_score\"],\n",
    "                                         result_CBC[\"roc_auc_score\"],result_XGBC[\"roc_auc_score\"], result_lgbC[\"roc_auc_score\"],mean_target['roc_auc_score']],\\\n",
    "                    'execution_time' : [result_LR[\"time\"], result_DTC[\"time\"], result_RFC[\"time\"],\n",
    "                                         result_CBC[\"time\"],result_XGBC[\"time\"], result_lgbC[\"time\"],0]\n",
    "                         })"
   ]
  },
  {
   "cell_type": "code",
   "execution_count": 86,
   "metadata": {
    "scrolled": false
   },
   "outputs": [
    {
     "data": {
      "text/html": [
       "<div>\n",
       "<style scoped>\n",
       "    .dataframe tbody tr th:only-of-type {\n",
       "        vertical-align: middle;\n",
       "    }\n",
       "\n",
       "    .dataframe tbody tr th {\n",
       "        vertical-align: top;\n",
       "    }\n",
       "\n",
       "    .dataframe thead th {\n",
       "        text-align: right;\n",
       "    }\n",
       "</style>\n",
       "<table border=\"1\" class=\"dataframe\">\n",
       "  <thead>\n",
       "    <tr style=\"text-align: right;\">\n",
       "      <th></th>\n",
       "      <th>name_model</th>\n",
       "      <th>accuracy_score</th>\n",
       "      <th>recall_score</th>\n",
       "      <th>precision_score</th>\n",
       "      <th>f1_score</th>\n",
       "      <th>roc_auc_score</th>\n",
       "      <th>execution_time</th>\n",
       "    </tr>\n",
       "  </thead>\n",
       "  <tbody>\n",
       "    <tr>\n",
       "      <td>5</td>\n",
       "      <td>LGBMClassifier</td>\n",
       "      <td>0.841866</td>\n",
       "      <td>0.761317</td>\n",
       "      <td>0.695489</td>\n",
       "      <td>0.726916</td>\n",
       "      <td>0.908705</td>\n",
       "      <td>0.332442</td>\n",
       "    </tr>\n",
       "    <tr>\n",
       "      <td>3</td>\n",
       "      <td>CatBoostClassifier</td>\n",
       "      <td>0.840728</td>\n",
       "      <td>0.767490</td>\n",
       "      <td>0.690741</td>\n",
       "      <td>0.727096</td>\n",
       "      <td>0.904029</td>\n",
       "      <td>37.616479</td>\n",
       "    </tr>\n",
       "    <tr>\n",
       "      <td>4</td>\n",
       "      <td>XGBClassifier</td>\n",
       "      <td>0.787258</td>\n",
       "      <td>0.804527</td>\n",
       "      <td>0.583582</td>\n",
       "      <td>0.676471</td>\n",
       "      <td>0.879914</td>\n",
       "      <td>0.702294</td>\n",
       "    </tr>\n",
       "    <tr>\n",
       "      <td>0</td>\n",
       "      <td>LogisticRegression</td>\n",
       "      <td>0.750853</td>\n",
       "      <td>0.779835</td>\n",
       "      <td>0.533803</td>\n",
       "      <td>0.633779</td>\n",
       "      <td>0.842627</td>\n",
       "      <td>0.587174</td>\n",
       "    </tr>\n",
       "    <tr>\n",
       "      <td>2</td>\n",
       "      <td>RandomForestClassifier</td>\n",
       "      <td>0.802617</td>\n",
       "      <td>0.606996</td>\n",
       "      <td>0.654102</td>\n",
       "      <td>0.629669</td>\n",
       "      <td>0.841475</td>\n",
       "      <td>1.018486</td>\n",
       "    </tr>\n",
       "    <tr>\n",
       "      <td>1</td>\n",
       "      <td>DecisionTreeClassifier</td>\n",
       "      <td>0.763367</td>\n",
       "      <td>0.543210</td>\n",
       "      <td>0.576419</td>\n",
       "      <td>0.559322</td>\n",
       "      <td>0.696044</td>\n",
       "      <td>0.129552</td>\n",
       "    </tr>\n",
       "    <tr>\n",
       "      <td>6</td>\n",
       "      <td>Test_filled_with_mean</td>\n",
       "      <td>0.723549</td>\n",
       "      <td>0.000000</td>\n",
       "      <td>0.000000</td>\n",
       "      <td>0.000000</td>\n",
       "      <td>0.500000</td>\n",
       "      <td>0.000000</td>\n",
       "    </tr>\n",
       "  </tbody>\n",
       "</table>\n",
       "</div>"
      ],
      "text/plain": [
       "               name_model  accuracy_score  recall_score  precision_score  \\\n",
       "5  LGBMClassifier          0.841866        0.761317      0.695489          \n",
       "3  CatBoostClassifier      0.840728        0.767490      0.690741          \n",
       "4  XGBClassifier           0.787258        0.804527      0.583582          \n",
       "0  LogisticRegression      0.750853        0.779835      0.533803          \n",
       "2  RandomForestClassifier  0.802617        0.606996      0.654102          \n",
       "1  DecisionTreeClassifier  0.763367        0.543210      0.576419          \n",
       "6  Test_filled_with_mean   0.723549        0.000000      0.000000          \n",
       "\n",
       "   f1_score  roc_auc_score  execution_time  \n",
       "5  0.726916  0.908705       0.332442        \n",
       "3  0.727096  0.904029       37.616479       \n",
       "4  0.676471  0.879914       0.702294        \n",
       "0  0.633779  0.842627       0.587174        \n",
       "2  0.629669  0.841475       1.018486        \n",
       "1  0.559322  0.696044       0.129552        \n",
       "6  0.000000  0.500000       0.000000        "
      ]
     },
     "execution_count": 86,
     "metadata": {},
     "output_type": "execute_result"
    }
   ],
   "source": [
    "scores_up.sort_values(by = 'roc_auc_score', ascending = False)"
   ]
  },
  {
   "cell_type": "markdown",
   "metadata": {},
   "source": [
    "*На апсамплиноговом трейне без тюнинга гиперпараметров лучший результат auc_score = 0.908705 у LGBMClassifier, чуть уступает CatBoostClassifier*"
   ]
  },
  {
   "cell_type": "markdown",
   "metadata": {},
   "source": [
    "<font color='purple'>*Проверим важность признаков на которых обучилась модель LGBMClassifier изначально для апскейлиного датасета*</font>"
   ]
  },
  {
   "cell_type": "code",
   "execution_count": 87,
   "metadata": {},
   "outputs": [
    {
     "name": "stdout",
     "output_type": "stream",
     "text": [
      "[  86   75  151  664   91   41   43   55   26   38   48   65   46   32\n",
      "   69   56   57   22   51 1284]\n"
     ]
    }
   ],
   "source": [
    "lgbC = LGBMClassifier()\n",
    "lgbC.fit(train_features_up, train_target_up)    \n",
    "imp = lgbC.feature_importances_\n",
    "print(imp)"
   ]
  },
  {
   "cell_type": "code",
   "execution_count": 88,
   "metadata": {},
   "outputs": [],
   "source": [
    "d = {'feature': ['Type', 'PaperlessBilling', 'PaymentMethod', 'TotalCharges', 'gender',\n",
    "       'SeniorCitizen', 'Partner', 'Dependents','Family', 'Internet_customer',\n",
    "       'InternetService', 'OnlineSecurity', 'OnlineBackup', 'DeviceProtection',\n",
    "       'TechSupport', 'StreamingTV', 'StreamingMovies', 'Phone_customer',\n",
    "       'MultipleLines', 'difference'], 'importance': imp}"
   ]
  },
  {
   "cell_type": "code",
   "execution_count": 89,
   "metadata": {
    "scrolled": true
   },
   "outputs": [
    {
     "data": {
      "image/png": "[encoded data removed]",
      "text/plain": [
       "<Figure size 432x288 with 1 Axes>"
      ]
     },
     "metadata": {
      "needs_background": "light"
     },
     "output_type": "display_data"
    }
   ],
   "source": [
    "data_f = pd.DataFrame(data = d).sort_values(by = 'importance', ascending = False)\n",
    "data_f = data_f.set_index('feature')\n",
    "data_f.plot(kind = 'bar');\n",
    "plt.ylabel('Feature Importance Score');\n",
    "plt.xlabel('Feature');"
   ]
  },
  {
   "cell_type": "markdown",
   "metadata": {},
   "source": [
    "<font color='purple'>*Видно, что основной вклад делают две фичи, difference и Total_charges. Далее я пользуюсь твоим советом и изхожу из такой логики, так есть две фичи которые играют самую важную роль при обучении, я оставляю только их для обучения модели, а остальные фичи удаляю, далее смотрю как качественно обучилась модель\n",
    "*</font>"
   ]
  },
  {
   "cell_type": "code",
   "execution_count": 90,
   "metadata": {},
   "outputs": [],
   "source": [
    "train_features_up = train_features_up[['difference', 'TotalCharges','PaymentMethod']]\n",
    "test_features_up = test_features_up[['difference','TotalCharges','PaymentMethod']]"
   ]
  },
  {
   "cell_type": "code",
   "execution_count": 91,
   "metadata": {
    "scrolled": true
   },
   "outputs": [
    {
     "name": "stdout",
     "output_type": "stream",
     "text": [
      "name of model LogisticRegression(C=1.0, class_weight=None, dual=False, fit_intercept=True,\n",
      "                   intercept_scaling=1, l1_ratio=None, max_iter=100,\n",
      "                   multi_class='warn', n_jobs=None, penalty='l2',\n",
      "                   random_state=12345, solver='lbfgs', tol=0.0001, verbose=0,\n",
      "                   warm_start=False)\n",
      "name of model DecisionTreeClassifier(class_weight=None, criterion='gini', max_depth=None,\n",
      "                       max_features=None, max_leaf_nodes=None,\n",
      "                       min_impurity_decrease=0.0, min_impurity_split=None,\n",
      "                       min_samples_leaf=1, min_samples_split=2,\n",
      "                       min_weight_fraction_leaf=0.0, presort=False,\n",
      "                       random_state=12345, splitter='best')\n",
      "name of model RandomForestClassifier(bootstrap=True, class_weight=None, criterion='gini',\n",
      "                       max_depth=None, max_features='auto', max_leaf_nodes=None,\n",
      "                       min_impurity_decrease=0.0, min_impurity_split=None,\n",
      "                       min_samples_leaf=1, min_samples_split=2,\n",
      "                       min_weight_fraction_leaf=0.0, n_estimators=100,\n",
      "                       n_jobs=None, oob_score=False, random_state=12345,\n",
      "                       verbose=0, warm_start=False)\n",
      "name of model <catboost.core.CatBoostClassifier object at 0x7f7ddeb088d0>\n",
      "name of model XGBClassifier(base_score=0.5, booster='gbtree', colsample_bylevel=1,\n",
      "              colsample_bynode=1, colsample_bytree=1, gamma=0,\n",
      "              learning_rate=0.1, max_delta_step=0, max_depth=3,\n",
      "              min_child_weight=1, missing=None, n_estimators=100, n_jobs=1,\n",
      "              nthread=None, objective='binary:logistic', random_state=12345,\n",
      "              reg_alpha=0, reg_lambda=1, scale_pos_weight=1, seed=None,\n",
      "              silent=None, subsample=1, verbosity=1)\n",
      "name of model LGBMClassifier(boosting_type='gbdt', class_weight=None, colsample_bytree=1.0,\n",
      "               importance_type='split', learning_rate=0.1, max_depth=-1,\n",
      "               min_child_samples=20, min_child_weight=0.001, min_split_gain=0.0,\n",
      "               n_estimators=100, n_jobs=-1, num_leaves=31, objective=None,\n",
      "               random_state=None, reg_alpha=0.0, reg_lambda=0.0, silent=True,\n",
      "               subsample=1.0, subsample_for_bin=200000, subsample_freq=0)\n"
     ]
    }
   ],
   "source": [
    "LR = LogisticRegression(random_state = 12345, solver = 'lbfgs')\n",
    "result_LR = best_model(LR, train_features_up, train_target_up, test_features_up, test_target)\n",
    "DTC = DecisionTreeClassifier(random_state = 12345)\n",
    "result_DTC = best_model(DTC, train_features_up, train_target_up, test_features_up, test_target)\n",
    "RFC = RandomForestClassifier(random_state = 12345, n_estimators = 100)\n",
    "result_RFC = best_model(RFC, train_features_up, train_target_up, test_features_up, test_target)\n",
    "CBC = CatBoostClassifier(random_state = 12345, verbose=0)\n",
    "result_CBC = best_model(CBC, train_features_up, train_target_up, test_features_up, test_target)\n",
    "CBC.get_all_params()\n",
    "XGBC = XGBClassifier(random_state = 12345)\n",
    "result_XGBC = best_model (XGBC, train_features_up, train_target_up, test_features_up, test_target)\n",
    "lgbC = LGBMClassifier()\n",
    "result_lgbC = best_model(lgbC, train_features_up, train_target_up, test_features_up, test_target)"
   ]
  },
  {
   "cell_type": "code",
   "execution_count": 92,
   "metadata": {},
   "outputs": [],
   "source": [
    "scores_up = pd.DataFrame({'name_model':[\"LogisticRegression\",\"DecisionTreeClassifier\",\"RandomForestClassifier\",\n",
    "                                      \"CatBoostClassifier\", \"XGBClassifier\",\"LGBMClassifier\",\"Test_filled_with_mean\"] ,\\\n",
    "                    'accuracy_score' : [result_LR[\"accuracy_score\"], result_DTC[\"accuracy_score\"], result_RFC[\"accuracy_score\"],\n",
    "                                         result_CBC[\"accuracy_score\"],result_XGBC[\"accuracy_score\"], result_lgbC[\"accuracy_score\"],mean_target[\"accuracy_score\"]],\\\n",
    "                          'recall_score' : [result_LR[\"recall_score\"], result_DTC[\"recall_score\"], result_RFC[\"recall_score\"],\n",
    "                                         result_CBC[\"recall_score\"], result_XGBC[\"recall_score\"], result_lgbC[\"recall_score\"], mean_target[\"recall_score\"]],\\\n",
    "                          'precision_score' : [result_LR[\"precision_score\"], result_DTC[\"precision_score\"], result_RFC[\"precision_score\"],\n",
    "                                         result_CBC[\"precision_score\"],result_XGBC[\"precision_score\"], result_lgbC[\"precision_score\"],mean_target[\"precision_score\"]],\\\n",
    "                    'f1_score' : [result_LR[\"f1_score\"], result_DTC[\"f1_score\"], result_RFC[\"f1_score\"],\n",
    "                                         result_CBC[\"f1_score\"],result_XGBC[\"f1_score\"], result_lgbC[\"f1_score\"],mean_target[\"f1_score\"]],\\\n",
    "                    'roc_auc_score' : [result_LR[\"roc_auc_score\"], result_DTC[\"roc_auc_score\"], result_RFC[\"roc_auc_score\"],\n",
    "                                         result_CBC[\"roc_auc_score\"],result_XGBC[\"roc_auc_score\"], result_lgbC[\"roc_auc_score\"],mean_target['roc_auc_score']],\\\n",
    "                    'execution_time' : [result_LR[\"time\"], result_DTC[\"time\"], result_RFC[\"time\"],\n",
    "                                         result_CBC[\"time\"],result_XGBC[\"time\"], result_lgbC[\"time\"],0]      \n",
    "                         })"
   ]
  },
  {
   "cell_type": "code",
   "execution_count": 93,
   "metadata": {
    "scrolled": false
   },
   "outputs": [
    {
     "data": {
      "text/html": [
       "<div>\n",
       "<style scoped>\n",
       "    .dataframe tbody tr th:only-of-type {\n",
       "        vertical-align: middle;\n",
       "    }\n",
       "\n",
       "    .dataframe tbody tr th {\n",
       "        vertical-align: top;\n",
       "    }\n",
       "\n",
       "    .dataframe thead th {\n",
       "        text-align: right;\n",
       "    }\n",
       "</style>\n",
       "<table border=\"1\" class=\"dataframe\">\n",
       "  <thead>\n",
       "    <tr style=\"text-align: right;\">\n",
       "      <th></th>\n",
       "      <th>name_model</th>\n",
       "      <th>accuracy_score</th>\n",
       "      <th>recall_score</th>\n",
       "      <th>precision_score</th>\n",
       "      <th>f1_score</th>\n",
       "      <th>roc_auc_score</th>\n",
       "      <th>execution_time</th>\n",
       "    </tr>\n",
       "  </thead>\n",
       "  <tbody>\n",
       "    <tr>\n",
       "      <td>3</td>\n",
       "      <td>CatBoostClassifier</td>\n",
       "      <td>0.845279</td>\n",
       "      <td>0.786008</td>\n",
       "      <td>0.694545</td>\n",
       "      <td>0.737452</td>\n",
       "      <td>0.916936</td>\n",
       "      <td>35.132073</td>\n",
       "    </tr>\n",
       "    <tr>\n",
       "      <td>5</td>\n",
       "      <td>LGBMClassifier</td>\n",
       "      <td>0.847554</td>\n",
       "      <td>0.790123</td>\n",
       "      <td>0.698182</td>\n",
       "      <td>0.741313</td>\n",
       "      <td>0.910319</td>\n",
       "      <td>0.196876</td>\n",
       "    </tr>\n",
       "    <tr>\n",
       "      <td>4</td>\n",
       "      <td>XGBClassifier</td>\n",
       "      <td>0.773038</td>\n",
       "      <td>0.767490</td>\n",
       "      <td>0.566009</td>\n",
       "      <td>0.651528</td>\n",
       "      <td>0.866458</td>\n",
       "      <td>0.427633</td>\n",
       "    </tr>\n",
       "    <tr>\n",
       "      <td>2</td>\n",
       "      <td>RandomForestClassifier</td>\n",
       "      <td>0.811718</td>\n",
       "      <td>0.596708</td>\n",
       "      <td>0.682353</td>\n",
       "      <td>0.636663</td>\n",
       "      <td>0.838915</td>\n",
       "      <td>1.027543</td>\n",
       "    </tr>\n",
       "    <tr>\n",
       "      <td>0</td>\n",
       "      <td>LogisticRegression</td>\n",
       "      <td>0.682594</td>\n",
       "      <td>0.786008</td>\n",
       "      <td>0.456938</td>\n",
       "      <td>0.577912</td>\n",
       "      <td>0.797124</td>\n",
       "      <td>0.246657</td>\n",
       "    </tr>\n",
       "    <tr>\n",
       "      <td>1</td>\n",
       "      <td>DecisionTreeClassifier</td>\n",
       "      <td>0.808305</td>\n",
       "      <td>0.623457</td>\n",
       "      <td>0.663020</td>\n",
       "      <td>0.642630</td>\n",
       "      <td>0.751659</td>\n",
       "      <td>0.019736</td>\n",
       "    </tr>\n",
       "    <tr>\n",
       "      <td>6</td>\n",
       "      <td>Test_filled_with_mean</td>\n",
       "      <td>0.723549</td>\n",
       "      <td>0.000000</td>\n",
       "      <td>0.000000</td>\n",
       "      <td>0.000000</td>\n",
       "      <td>0.500000</td>\n",
       "      <td>0.000000</td>\n",
       "    </tr>\n",
       "  </tbody>\n",
       "</table>\n",
       "</div>"
      ],
      "text/plain": [
       "               name_model  accuracy_score  recall_score  precision_score  \\\n",
       "3  CatBoostClassifier      0.845279        0.786008      0.694545          \n",
       "5  LGBMClassifier          0.847554        0.790123      0.698182          \n",
       "4  XGBClassifier           0.773038        0.767490      0.566009          \n",
       "2  RandomForestClassifier  0.811718        0.596708      0.682353          \n",
       "0  LogisticRegression      0.682594        0.786008      0.456938          \n",
       "1  DecisionTreeClassifier  0.808305        0.623457      0.663020          \n",
       "6  Test_filled_with_mean   0.723549        0.000000      0.000000          \n",
       "\n",
       "   f1_score  roc_auc_score  execution_time  \n",
       "3  0.737452  0.916936       35.132073       \n",
       "5  0.741313  0.910319       0.196876        \n",
       "4  0.651528  0.866458       0.427633        \n",
       "2  0.636663  0.838915       1.027543        \n",
       "0  0.577912  0.797124       0.246657        \n",
       "1  0.642630  0.751659       0.019736        \n",
       "6  0.000000  0.500000       0.000000        "
      ]
     },
     "execution_count": 93,
     "metadata": {},
     "output_type": "execute_result"
    }
   ],
   "source": [
    "scores_up.sort_values(by = 'roc_auc_score', ascending = False)"
   ]
  },
  {
   "cell_type": "markdown",
   "metadata": {},
   "source": [
    "<font color='purple'>**Дальнийший план**\n",
    "\n",
    "1. Оставляем только'difference', 'TotalCharges', так как имея только эти две фичи все модели обучилась лучше\n",
    "2. CatBoostClassifier  показал лучший результат, но я не буду пытаться улучшить его тюнингом, тк как jupyter постоянно падает при долгом обучении модели.\n",
    "3. Следовательно я попытаюсь поднять метрику у  LGBMClassifier, который по времени в 100 раз быстрее обучается и показал 2ой по результат по метрике roc_auc.\n",
    "4. **(тут ход конем)** Если LGBMClassifier после тюнинга дает лучший результат чем CatBoostClassifier, то пускаю его в продакшен, если не дает , то пускаю в продакшн CatBoostClassifier на стоковых гиперпараметрах</font>"
   ]
  },
  {
   "cell_type": "markdown",
   "metadata": {},
   "source": [
    "Выделяем основные гиперпараметры и будем варьировать каждый из них на гридсерче, а затем выбирать лучший. В конце соединим лучшию комбинацию параметров и обучим модель заново."
   ]
  },
  {
   "cell_type": "code",
   "execution_count": 94,
   "metadata": {},
   "outputs": [],
   "source": [
    "grid = {}\n",
    "def hp_model(model, train_features, train_target, grid):\n",
    "    start = time()\n",
    "    grid_search =  GridSearchCV(estimator = model, param_grid  = grid,\n",
    "                            scoring = 'roc_auc' ,cv = 5, verbose = 0)\n",
    "\n",
    "    grid_fit = grid_search.fit(train_features,train_target)\n",
    "    best = grid_search.best_params_   \n",
    "    return best"
   ]
  },
  {
   "cell_type": "markdown",
   "metadata": {},
   "source": [
    "LGBMClassifier(\n",
    "\n",
    "               boosting_type='gbdt', class_weight=None, colsample_bytree=1.0,\n",
    "               importance_type='split', learning_rate=0.1, max_depth=-1,\n",
    "               min_child_samples=20, min_child_weight=0.001, min_split_gain=0.0,\n",
    "               n_estimators=100, n_jobs=-1, num_leaves=31, objective=None,\n",
    "               random_state=None, reg_alpha=0.0, reg_lambda=0.0, silent=True,\n",
    "               subsample=1.0, subsample_for_bin=200000, subsample_freq=0\n",
    "  \n",
    "                       )"
   ]
  },
  {
   "cell_type": "markdown",
   "metadata": {},
   "source": [
    "Варьируем max_depth"
   ]
  },
  {
   "cell_type": "code",
   "execution_count": 95,
   "metadata": {
    "scrolled": true
   },
   "outputs": [],
   "source": [
    "md = [int((x)) for x in np.linspace(start = 20, stop = 40, num = 11)]\n",
    "random_grid = {'max_depth':md\n",
    "              }\n",
    "LGBMC = LGBMClassifier(random_state =12345)\n",
    "best_md =  hp_model(LGBMC, train_features_up, train_target_up, grid = random_grid)"
   ]
  },
  {
   "cell_type": "code",
   "execution_count": 96,
   "metadata": {},
   "outputs": [
    {
     "data": {
      "text/plain": [
       "{'max_depth': 22}"
      ]
     },
     "execution_count": 96,
     "metadata": {},
     "output_type": "execute_result"
    }
   ],
   "source": [
    "best_md"
   ]
  },
  {
   "cell_type": "markdown",
   "metadata": {},
   "source": [
    "Варьируем n_estimators"
   ]
  },
  {
   "cell_type": "code",
   "execution_count": 97,
   "metadata": {
    "scrolled": true
   },
   "outputs": [],
   "source": [
    "ne = [int(x) for x in np.linspace(start = 100, stop = 1300, num = 49)]\n",
    "ne = ne[1:]\n",
    "random_grid = {'n_estimators':ne\n",
    "              }\n",
    "LGBMC = LGBMClassifier(random_state =12345,max_depth = best_md.get('max_depth'))\n",
    "best_ne =  hp_model(LGBMC, train_features_up, train_target_up, grid = random_grid)"
   ]
  },
  {
   "cell_type": "code",
   "execution_count": 98,
   "metadata": {
    "scrolled": true
   },
   "outputs": [
    {
     "data": {
      "text/plain": [
       "{'n_estimators': 1300}"
      ]
     },
     "execution_count": 98,
     "metadata": {},
     "output_type": "execute_result"
    }
   ],
   "source": [
    "best_ne"
   ]
  },
  {
   "cell_type": "markdown",
   "metadata": {},
   "source": [
    "Варьируем learning_rate"
   ]
  },
  {
   "cell_type": "code",
   "execution_count": 99,
   "metadata": {},
   "outputs": [],
   "source": [
    "lr = [round(float(x),2) for x in np.linspace(start = 0.01, stop = 0.1, num = 10)]\n",
    "#lr = lr[1:]\n",
    "random_grid = {'learning_rate':lr\n",
    "              }\n",
    "LGBMC = LGBMClassifier(random_state =12345,max_depth = best_md.get('max_depth'),\n",
    "                       n_estimators = best_ne.get('n_estimators'))\n",
    "best_lr =  hp_model(LGBMC, train_features_up, train_target_up, grid = random_grid)"
   ]
  },
  {
   "cell_type": "code",
   "execution_count": 100,
   "metadata": {},
   "outputs": [
    {
     "data": {
      "text/plain": [
       "{'learning_rate': 0.1}"
      ]
     },
     "execution_count": 100,
     "metadata": {},
     "output_type": "execute_result"
    }
   ],
   "source": [
    "best_lr"
   ]
  },
  {
   "cell_type": "markdown",
   "metadata": {},
   "source": [
    "Варьируем num_leaves"
   ]
  },
  {
   "cell_type": "code",
   "execution_count": 101,
   "metadata": {},
   "outputs": [],
   "source": [
    "random_grid = {\n",
    "    'num_leaves':[25,26,27,28,29,30,31,32,33,34,35,36,37,38,39,40]}\n",
    "LGBMC = LGBMClassifier(random_state =12345,max_depth = best_md.get('max_depth'),\n",
    "                       n_estimators = best_ne.get('n_estimators'),\n",
    "                       learning_rate = best_lr.get('learning_rate'))\n",
    "best_nl =  hp_model(LGBMC, train_features_up, train_target_up, grid = random_grid)"
   ]
  },
  {
   "cell_type": "code",
   "execution_count": 102,
   "metadata": {
    "scrolled": true
   },
   "outputs": [
    {
     "data": {
      "text/plain": [
       "{'num_leaves': 33}"
      ]
     },
     "execution_count": 102,
     "metadata": {},
     "output_type": "execute_result"
    }
   ],
   "source": [
    "best_nl"
   ]
  },
  {
   "cell_type": "markdown",
   "metadata": {},
   "source": [
    "Варьируем subsample_for_bin"
   ]
  },
  {
   "cell_type": "code",
   "execution_count": 103,
   "metadata": {},
   "outputs": [],
   "source": [
    "bins = [int(x) for x in np.linspace(start = 200000, stop = 1000000, num = 10)]\n",
    "random_grid = {\n",
    "    'subsample_for_bin':bins}\n",
    "LGBMC = LGBMClassifier(random_state =12345,max_depth = best_md.get('max_depth'),\n",
    "                       n_estimators = best_ne.get('n_estimators'),\n",
    "                       learning_rate = best_lr.get('learning_rate'),\n",
    "                       num_leaves = best_nl.get('num_leaves'))\n",
    "best_bins =  hp_model(LGBMC, train_features_up, train_target_up, grid = random_grid)"
   ]
  },
  {
   "cell_type": "code",
   "execution_count": 104,
   "metadata": {
    "scrolled": true
   },
   "outputs": [
    {
     "data": {
      "text/plain": [
       "{'subsample_for_bin': 200000}"
      ]
     },
     "execution_count": 104,
     "metadata": {},
     "output_type": "execute_result"
    }
   ],
   "source": [
    "best_bins"
   ]
  },
  {
   "cell_type": "markdown",
   "metadata": {},
   "source": [
    "Варьируем boosting_type"
   ]
  },
  {
   "cell_type": "code",
   "execution_count": 105,
   "metadata": {},
   "outputs": [],
   "source": [
    "random_grid = {\n",
    "    'boosting_type':['dart','gbdt','goss']}\n",
    "LGBMC = LGBMClassifier(random_state =12345,max_depth = best_md.get('max_depth'),\n",
    "                       n_estimators = best_ne.get('n_estimators'),\n",
    "                       learning_rate = best_lr.get('learning_rate'),\n",
    "                       num_leaves = best_nl.get('num_leaves'),\n",
    "                       subsample_for_bin = best_bins.get('subsample_for_bin'))\n",
    "best_bt =  hp_model(LGBMC, train_features_up, train_target_up, grid = random_grid)"
   ]
  },
  {
   "cell_type": "code",
   "execution_count": 106,
   "metadata": {},
   "outputs": [
    {
     "data": {
      "text/plain": [
       "{'boosting_type': 'gbdt'}"
      ]
     },
     "execution_count": 106,
     "metadata": {},
     "output_type": "execute_result"
    }
   ],
   "source": [
    "best_bt"
   ]
  },
  {
   "cell_type": "code",
   "execution_count": 107,
   "metadata": {},
   "outputs": [],
   "source": [
    "def final_model(model, train_features, train_target, test_features, test_target):\n",
    "    result = {}\n",
    "    \n",
    "    start = time()\n",
    "    model.fit(train_features, train_target)\n",
    "\n",
    "    \n",
    "    answers = model.predict(test_features)\n",
    "    answers_proba = model.predict_proba(test_features)\n",
    "    answers_proba_1 = answers_proba[:,1]\n",
    "    \n",
    "    end = time()\n",
    "    \n",
    "    result['accuracy_score'] = accuracy_score(test_target,answers)\n",
    "    result['recall_score'] = recall_score(test_target,answers)\n",
    "    result['precision_score'] = precision_score(test_target,answers)\n",
    "    result['f1_score'] = f1_score(test_target,answers)\n",
    "    result['roc_auc_score'] = roc_auc_score(test_target, answers_proba_1)\n",
    "    result['time'] = end - start\n",
    "\n",
    "    print('name of model {}'.format(model))\n",
    "    return answers,result"
   ]
  },
  {
   "cell_type": "markdown",
   "metadata": {},
   "source": [
    "Обучаем на лучшей комбинации гиперпараметров"
   ]
  },
  {
   "cell_type": "code",
   "execution_count": 108,
   "metadata": {
    "scrolled": false
   },
   "outputs": [
    {
     "name": "stdout",
     "output_type": "stream",
     "text": [
      "name of model LGBMClassifier(boosting_type='gbdt', class_weight=None, colsample_bytree=1.0,\n",
      "               importance_type='split', learning_rate=0.1, max_depth=22,\n",
      "               min_child_samples=20, min_child_weight=0.001, min_split_gain=0.0,\n",
      "               n_estimators=1300, n_jobs=-1, num_leaves=33, objective=None,\n",
      "               random_state=12345, reg_alpha=0.0, reg_lambda=0.0, silent=True,\n",
      "               subsample=1.0, subsample_for_bin=200000, subsample_freq=0)\n"
     ]
    }
   ],
   "source": [
    "lgbC = LGBMClassifier(random_state =12345,max_depth = best_md.get('max_depth'),\n",
    "                       n_estimators = best_ne.get('n_estimators'),\n",
    "                       learning_rate = best_lr.get('learning_rate'),\n",
    "                       num_leaves = best_nl.get('num_leaves'),\n",
    "                      subsample_for_bin = best_bins.get('subsample_for_bin'),\n",
    "                      boosting_type = best_bt.get('boosting_type'))\n",
    "answers, result_lgbC = final_model(lgbC, train_features_up, train_target_up, test_features_up, test_target)"
   ]
  },
  {
   "cell_type": "code",
   "execution_count": 109,
   "metadata": {},
   "outputs": [],
   "source": [
    "tn, fp, fn, tp = confusion_matrix(test_target, answers).ravel()"
   ]
  },
  {
   "cell_type": "code",
   "execution_count": 110,
   "metadata": {},
   "outputs": [
    {
     "data": {
      "text/plain": [
       "(1161, 111, 139, 347)"
      ]
     },
     "execution_count": 110,
     "metadata": {},
     "output_type": "execute_result"
    }
   ],
   "source": [
    "(tn, fp, fn, tp)"
   ]
  },
  {
   "cell_type": "code",
   "execution_count": 111,
   "metadata": {},
   "outputs": [],
   "source": [
    "scores_final = pd.DataFrame({'name_model':[ \"LGBMClassifier\"] ,\\\n",
    "                        'accuracy_score' : [result_lgbC['accuracy_score']] ,\\\n",
    "                        'recall_score' : [result_lgbC['recall_score']] ,\\\n",
    "                        'precision_score' : [result_lgbC['precision_score']] ,\\\n",
    "                        'f1_score' : [result_lgbC['f1_score']],\\\n",
    "                        'roc_auc_score' : [result_lgbC[\"roc_auc_score\"]],\\\n",
    "                        'execution_time': [result_lgbC['time']]\n",
    "                            })  "
   ]
  },
  {
   "cell_type": "code",
   "execution_count": 112,
   "metadata": {
    "scrolled": true
   },
   "outputs": [
    {
     "data": {
      "text/html": [
       "<div>\n",
       "<style scoped>\n",
       "    .dataframe tbody tr th:only-of-type {\n",
       "        vertical-align: middle;\n",
       "    }\n",
       "\n",
       "    .dataframe tbody tr th {\n",
       "        vertical-align: top;\n",
       "    }\n",
       "\n",
       "    .dataframe thead th {\n",
       "        text-align: right;\n",
       "    }\n",
       "</style>\n",
       "<table border=\"1\" class=\"dataframe\">\n",
       "  <thead>\n",
       "    <tr style=\"text-align: right;\">\n",
       "      <th></th>\n",
       "      <th>name_model</th>\n",
       "      <th>accuracy_score</th>\n",
       "      <th>recall_score</th>\n",
       "      <th>precision_score</th>\n",
       "      <th>f1_score</th>\n",
       "      <th>roc_auc_score</th>\n",
       "      <th>execution_time</th>\n",
       "    </tr>\n",
       "  </thead>\n",
       "  <tbody>\n",
       "    <tr>\n",
       "      <td>0</td>\n",
       "      <td>LGBMClassifier</td>\n",
       "      <td>0.857793</td>\n",
       "      <td>0.713992</td>\n",
       "      <td>0.757642</td>\n",
       "      <td>0.735169</td>\n",
       "      <td>0.900778</td>\n",
       "      <td>2.410885</td>\n",
       "    </tr>\n",
       "  </tbody>\n",
       "</table>\n",
       "</div>"
      ],
      "text/plain": [
       "       name_model  accuracy_score  recall_score  precision_score  f1_score  \\\n",
       "0  LGBMClassifier  0.857793        0.713992      0.757642         0.735169   \n",
       "\n",
       "   roc_auc_score  execution_time  \n",
       "0  0.900778       2.410885        "
      ]
     },
     "execution_count": 112,
     "metadata": {},
     "output_type": "execute_result"
    }
   ],
   "source": [
    "scores_final"
   ]
  },
  {
   "cell_type": "code",
   "execution_count": 113,
   "metadata": {},
   "outputs": [
    {
     "data": {
      "text/html": [
       "<div>\n",
       "<style scoped>\n",
       "    .dataframe tbody tr th:only-of-type {\n",
       "        vertical-align: middle;\n",
       "    }\n",
       "\n",
       "    .dataframe tbody tr th {\n",
       "        vertical-align: top;\n",
       "    }\n",
       "\n",
       "    .dataframe thead th {\n",
       "        text-align: right;\n",
       "    }\n",
       "</style>\n",
       "<table border=\"1\" class=\"dataframe\">\n",
       "  <thead>\n",
       "    <tr style=\"text-align: right;\">\n",
       "      <th></th>\n",
       "      <th>name_model</th>\n",
       "      <th>accuracy_score</th>\n",
       "      <th>recall_score</th>\n",
       "      <th>precision_score</th>\n",
       "      <th>f1_score</th>\n",
       "      <th>roc_auc_score</th>\n",
       "      <th>execution_time</th>\n",
       "    </tr>\n",
       "  </thead>\n",
       "  <tbody>\n",
       "    <tr>\n",
       "      <td>3</td>\n",
       "      <td>CatBoostClassifier</td>\n",
       "      <td>0.845279</td>\n",
       "      <td>0.786008</td>\n",
       "      <td>0.694545</td>\n",
       "      <td>0.737452</td>\n",
       "      <td>0.916936</td>\n",
       "      <td>35.132073</td>\n",
       "    </tr>\n",
       "  </tbody>\n",
       "</table>\n",
       "</div>"
      ],
      "text/plain": [
       "           name_model  accuracy_score  recall_score  precision_score  \\\n",
       "3  CatBoostClassifier  0.845279        0.786008      0.694545          \n",
       "\n",
       "   f1_score  roc_auc_score  execution_time  \n",
       "3  0.737452  0.916936       35.132073       "
      ]
     },
     "execution_count": 113,
     "metadata": {},
     "output_type": "execute_result"
    }
   ],
   "source": [
    "scores_up.sort_values(by = 'roc_auc_score', ascending = False).head(1)"
   ]
  },
  {
   "cell_type": "markdown",
   "metadata": {},
   "source": [
    "# Вывод"
   ]
  },
  {
   "cell_type": "markdown",
   "metadata": {},
   "source": [
    "**Получили, что LGBMClassifier после тюнинга стал хуже, чем был до него и естественно проиграл СatBoostClassifierу. Поэтому пускаем в продакшн СatBoostClassifier на стоковых параметрах**\n",
    "\n",
    "{'nan_mode': 'Min',\n",
    " 'eval_metric': 'Logloss',\n",
    " 'iterations': 1000,\n",
    " 'sampling_frequency': 'PerTree',\n",
    " 'fold_permutation_block': 0,\n",
    " 'leaf_estimation_method': 'Newton',\n",
    " 'boosting_type': 'Plain',\n",
    " 'feature_border_type': 'GreedyLogSum',\n",
    " 'bayesian_matrix_reg': 0.1000000015,\n",
    " 'l2_leaf_reg': 3,\n",
    " 'random_strength': 1,\n",
    " 'rsm': 1,\n",
    " 'boost_from_average': False,\n",
    " 'model_size_reg': 0.5,\n",
    " 'approx_on_full_history': False,\n",
    " 'subsample': 0.8000000119,\n",
    " 'use_best_model': False,\n",
    " 'class_names': ['0', '1'],\n",
    " 'random_seed': 12345,\n",
    " 'depth': 6,\n",
    " 'has_time': False,\n",
    " 'fold_len_multiplier': 2,\n",
    " 'border_count': 254,\n",
    " 'classes_count': 0,\n",
    " 'sparse_features_conflict_fraction': 0,\n",
    " 'leaf_estimation_backtracking': 'AnyImprovement',\n",
    " 'best_model_min_trees': 1,\n",
    " 'model_shrink_rate': 0,\n",
    " 'loss_function': 'Logloss',\n",
    " 'learning_rate': 0.03022100031,\n",
    " 'score_function': 'Cosine',\n",
    " 'task_type': 'CPU',\n",
    " 'leaf_estimation_iterations': 10,\n",
    " 'bootstrap_type': 'MVS',\n",
    " 'permutation_count': 4}"
   ]
  },
  {
   "cell_type": "markdown",
   "metadata": {},
   "source": [
    "По итогу roc_auc = 0.916936 для ***СatBoostClassifier и именно его я предлагаю пустить в продакшн.***\n",
    "К сожалению не получилось оттюнить ***LGBMClassifier***. Скорее всего это связано с тем, что стоковые параметры моделей и так настроены на максимальный результат изначально. В целом, результат модели хороший > 0.9. Также важно что **recall_score для СatBoostClassifier = 0.786008**, а это значит что на 100 собирающихся уйти клиентов, моя модель сможет поймать 78 человек, ну а далее менеджеры могут начать придумывать ходы как их оставить."
   ]
  },
  {
   "cell_type": "code",
   "execution_count": null,
   "metadata": {},
   "outputs": [],
   "source": []
  }
 ],
 "metadata": {
  "kernelspec": {
   "display_name": "Python 3",
   "language": "python",
   "name": "python3"
  },
  "language_info": {
   "codemirror_mode": {
    "name": "ipython",
    "version": 3
   },
   "file_extension": ".py",
   "mimetype": "text/x-python",
   "name": "python",
   "nbconvert_exporter": "python",
   "pygments_lexer": "ipython3",
   "version": "3.7.6"
  }
 },
 "nbformat": 4,
 "nbformat_minor": 2
}
